{
  "cells": [
    {
      "cell_type": "code",
      "execution_count": null,
      "id": "76c0060a-e049-42eb-90bf-a1fc907d43af",
      "metadata": {
        "id": "76c0060a-e049-42eb-90bf-a1fc907d43af"
      },
      "outputs": [],
      "source": [
        "import pandas as pd\n",
        "import numpy as np\n",
        "import matplotlib.pyplot as plt"
      ]
    },
    {
      "cell_type": "code",
      "source": [
        "from google.colab import drive\n",
        "drive.mount('/content/drive')"
      ],
      "metadata": {
        "colab": {
          "base_uri": "https://localhost:8080/"
        },
        "id": "3_swU-zbts2x",
        "outputId": "9041eb58-e88f-481f-cbfc-075657c80eb4"
      },
      "id": "3_swU-zbts2x",
      "execution_count": null,
      "outputs": [
        {
          "output_type": "stream",
          "name": "stdout",
          "text": [
            "Mounted at /content/drive\n"
          ]
        }
      ]
    },
    {
      "cell_type": "code",
      "execution_count": null,
      "id": "622e848e-4ca5-49b5-9f08-14e45323bebb",
      "metadata": {
        "id": "622e848e-4ca5-49b5-9f08-14e45323bebb"
      },
      "outputs": [],
      "source": [
        "data = pd.read_csv('/content/drive/MyDrive/QC/train (1).csv')"
      ]
    },
    {
      "cell_type": "code",
      "execution_count": null,
      "id": "a8c8b97b-261e-4512-a709-92e8e78606c9",
      "metadata": {
        "colab": {
          "base_uri": "https://localhost:8080/",
          "height": 226
        },
        "id": "a8c8b97b-261e-4512-a709-92e8e78606c9",
        "outputId": "2ce0dbe3-8bdf-44f2-fcdb-e6a7dc0a7af1"
      },
      "outputs": [
        {
          "output_type": "execute_result",
          "data": {
            "text/plain": [
              "   time         A         B         C         D         E         F         G  \\\n",
              "0     0  0.207366 -0.159951 -0.634176 -0.580962 -0.266505  0.060173 -0.475257   \n",
              "1     1  0.188828 -0.265508  0.042143 -0.550442 -0.132319 -0.185219  0.028295   \n",
              "2     2 -0.144261 -0.577142 -0.214634 -0.747391 -0.184255 -0.464831 -0.085181   \n",
              "3     3  0.208982 -0.310449  0.513708 -0.562868  0.742308 -0.305487  0.762246   \n",
              "4     4  0.093320 -0.358156  0.173188 -0.687296 -0.161461 -0.116062 -0.245748   \n",
              "\n",
              "          H         I         J         K         L         M         N  \\\n",
              "0 -1.486516 -0.332594 -0.671466 -0.226149 -0.187624 -0.780237 -0.785965   \n",
              "1  0.093210 -0.518139 -0.251917 -0.347845 -0.359069 -0.161254  0.020401   \n",
              "2  0.700449 -0.603438  0.197773 -0.566696 -0.580799  0.202726  0.135261   \n",
              "3  1.363020 -0.384575  0.525556 -0.348514 -0.428099  0.548993  0.471031   \n",
              "4  0.863372 -0.655588 -0.263358 -0.557428 -0.481214  0.083602  0.003087   \n",
              "\n",
              "         Y1        Y2  \n",
              "0 -0.935902 -0.310081  \n",
              "1 -0.089707 -0.305374  \n",
              "2 -0.077855 -0.631485  \n",
              "3  0.941271 -0.535212  \n",
              "4 -0.039582 -0.490561  "
            ],
            "text/html": [
              "\n",
              "  <div id=\"df-c8f16d45-7ba1-404f-9eb9-895f41f03d4c\" class=\"colab-df-container\">\n",
              "    <div>\n",
              "<style scoped>\n",
              "    .dataframe tbody tr th:only-of-type {\n",
              "        vertical-align: middle;\n",
              "    }\n",
              "\n",
              "    .dataframe tbody tr th {\n",
              "        vertical-align: top;\n",
              "    }\n",
              "\n",
              "    .dataframe thead th {\n",
              "        text-align: right;\n",
              "    }\n",
              "</style>\n",
              "<table border=\"1\" class=\"dataframe\">\n",
              "  <thead>\n",
              "    <tr style=\"text-align: right;\">\n",
              "      <th></th>\n",
              "      <th>time</th>\n",
              "      <th>A</th>\n",
              "      <th>B</th>\n",
              "      <th>C</th>\n",
              "      <th>D</th>\n",
              "      <th>E</th>\n",
              "      <th>F</th>\n",
              "      <th>G</th>\n",
              "      <th>H</th>\n",
              "      <th>I</th>\n",
              "      <th>J</th>\n",
              "      <th>K</th>\n",
              "      <th>L</th>\n",
              "      <th>M</th>\n",
              "      <th>N</th>\n",
              "      <th>Y1</th>\n",
              "      <th>Y2</th>\n",
              "    </tr>\n",
              "  </thead>\n",
              "  <tbody>\n",
              "    <tr>\n",
              "      <th>0</th>\n",
              "      <td>0</td>\n",
              "      <td>0.207366</td>\n",
              "      <td>-0.159951</td>\n",
              "      <td>-0.634176</td>\n",
              "      <td>-0.580962</td>\n",
              "      <td>-0.266505</td>\n",
              "      <td>0.060173</td>\n",
              "      <td>-0.475257</td>\n",
              "      <td>-1.486516</td>\n",
              "      <td>-0.332594</td>\n",
              "      <td>-0.671466</td>\n",
              "      <td>-0.226149</td>\n",
              "      <td>-0.187624</td>\n",
              "      <td>-0.780237</td>\n",
              "      <td>-0.785965</td>\n",
              "      <td>-0.935902</td>\n",
              "      <td>-0.310081</td>\n",
              "    </tr>\n",
              "    <tr>\n",
              "      <th>1</th>\n",
              "      <td>1</td>\n",
              "      <td>0.188828</td>\n",
              "      <td>-0.265508</td>\n",
              "      <td>0.042143</td>\n",
              "      <td>-0.550442</td>\n",
              "      <td>-0.132319</td>\n",
              "      <td>-0.185219</td>\n",
              "      <td>0.028295</td>\n",
              "      <td>0.093210</td>\n",
              "      <td>-0.518139</td>\n",
              "      <td>-0.251917</td>\n",
              "      <td>-0.347845</td>\n",
              "      <td>-0.359069</td>\n",
              "      <td>-0.161254</td>\n",
              "      <td>0.020401</td>\n",
              "      <td>-0.089707</td>\n",
              "      <td>-0.305374</td>\n",
              "    </tr>\n",
              "    <tr>\n",
              "      <th>2</th>\n",
              "      <td>2</td>\n",
              "      <td>-0.144261</td>\n",
              "      <td>-0.577142</td>\n",
              "      <td>-0.214634</td>\n",
              "      <td>-0.747391</td>\n",
              "      <td>-0.184255</td>\n",
              "      <td>-0.464831</td>\n",
              "      <td>-0.085181</td>\n",
              "      <td>0.700449</td>\n",
              "      <td>-0.603438</td>\n",
              "      <td>0.197773</td>\n",
              "      <td>-0.566696</td>\n",
              "      <td>-0.580799</td>\n",
              "      <td>0.202726</td>\n",
              "      <td>0.135261</td>\n",
              "      <td>-0.077855</td>\n",
              "      <td>-0.631485</td>\n",
              "    </tr>\n",
              "    <tr>\n",
              "      <th>3</th>\n",
              "      <td>3</td>\n",
              "      <td>0.208982</td>\n",
              "      <td>-0.310449</td>\n",
              "      <td>0.513708</td>\n",
              "      <td>-0.562868</td>\n",
              "      <td>0.742308</td>\n",
              "      <td>-0.305487</td>\n",
              "      <td>0.762246</td>\n",
              "      <td>1.363020</td>\n",
              "      <td>-0.384575</td>\n",
              "      <td>0.525556</td>\n",
              "      <td>-0.348514</td>\n",
              "      <td>-0.428099</td>\n",
              "      <td>0.548993</td>\n",
              "      <td>0.471031</td>\n",
              "      <td>0.941271</td>\n",
              "      <td>-0.535212</td>\n",
              "    </tr>\n",
              "    <tr>\n",
              "      <th>4</th>\n",
              "      <td>4</td>\n",
              "      <td>0.093320</td>\n",
              "      <td>-0.358156</td>\n",
              "      <td>0.173188</td>\n",
              "      <td>-0.687296</td>\n",
              "      <td>-0.161461</td>\n",
              "      <td>-0.116062</td>\n",
              "      <td>-0.245748</td>\n",
              "      <td>0.863372</td>\n",
              "      <td>-0.655588</td>\n",
              "      <td>-0.263358</td>\n",
              "      <td>-0.557428</td>\n",
              "      <td>-0.481214</td>\n",
              "      <td>0.083602</td>\n",
              "      <td>0.003087</td>\n",
              "      <td>-0.039582</td>\n",
              "      <td>-0.490561</td>\n",
              "    </tr>\n",
              "  </tbody>\n",
              "</table>\n",
              "</div>\n",
              "    <div class=\"colab-df-buttons\">\n",
              "\n",
              "  <div class=\"colab-df-container\">\n",
              "    <button class=\"colab-df-convert\" onclick=\"convertToInteractive('df-c8f16d45-7ba1-404f-9eb9-895f41f03d4c')\"\n",
              "            title=\"Convert this dataframe to an interactive table.\"\n",
              "            style=\"display:none;\">\n",
              "\n",
              "  <svg xmlns=\"http://www.w3.org/2000/svg\" height=\"24px\" viewBox=\"0 -960 960 960\">\n",
              "    <path d=\"M120-120v-720h720v720H120Zm60-500h600v-160H180v160Zm220 220h160v-160H400v160Zm0 220h160v-160H400v160ZM180-400h160v-160H180v160Zm440 0h160v-160H620v160ZM180-180h160v-160H180v160Zm440 0h160v-160H620v160Z\"/>\n",
              "  </svg>\n",
              "    </button>\n",
              "\n",
              "  <style>\n",
              "    .colab-df-container {\n",
              "      display:flex;\n",
              "      gap: 12px;\n",
              "    }\n",
              "\n",
              "    .colab-df-convert {\n",
              "      background-color: #E8F0FE;\n",
              "      border: none;\n",
              "      border-radius: 50%;\n",
              "      cursor: pointer;\n",
              "      display: none;\n",
              "      fill: #1967D2;\n",
              "      height: 32px;\n",
              "      padding: 0 0 0 0;\n",
              "      width: 32px;\n",
              "    }\n",
              "\n",
              "    .colab-df-convert:hover {\n",
              "      background-color: #E2EBFA;\n",
              "      box-shadow: 0px 1px 2px rgba(60, 64, 67, 0.3), 0px 1px 3px 1px rgba(60, 64, 67, 0.15);\n",
              "      fill: #174EA6;\n",
              "    }\n",
              "\n",
              "    .colab-df-buttons div {\n",
              "      margin-bottom: 4px;\n",
              "    }\n",
              "\n",
              "    [theme=dark] .colab-df-convert {\n",
              "      background-color: #3B4455;\n",
              "      fill: #D2E3FC;\n",
              "    }\n",
              "\n",
              "    [theme=dark] .colab-df-convert:hover {\n",
              "      background-color: #434B5C;\n",
              "      box-shadow: 0px 1px 3px 1px rgba(0, 0, 0, 0.15);\n",
              "      filter: drop-shadow(0px 1px 2px rgba(0, 0, 0, 0.3));\n",
              "      fill: #FFFFFF;\n",
              "    }\n",
              "  </style>\n",
              "\n",
              "    <script>\n",
              "      const buttonEl =\n",
              "        document.querySelector('#df-c8f16d45-7ba1-404f-9eb9-895f41f03d4c button.colab-df-convert');\n",
              "      buttonEl.style.display =\n",
              "        google.colab.kernel.accessAllowed ? 'block' : 'none';\n",
              "\n",
              "      async function convertToInteractive(key) {\n",
              "        const element = document.querySelector('#df-c8f16d45-7ba1-404f-9eb9-895f41f03d4c');\n",
              "        const dataTable =\n",
              "          await google.colab.kernel.invokeFunction('convertToInteractive',\n",
              "                                                    [key], {});\n",
              "        if (!dataTable) return;\n",
              "\n",
              "        const docLinkHtml = 'Like what you see? Visit the ' +\n",
              "          '<a target=\"_blank\" href=https://colab.research.google.com/notebooks/data_table.ipynb>data table notebook</a>'\n",
              "          + ' to learn more about interactive tables.';\n",
              "        element.innerHTML = '';\n",
              "        dataTable['output_type'] = 'display_data';\n",
              "        await google.colab.output.renderOutput(dataTable, element);\n",
              "        const docLink = document.createElement('div');\n",
              "        docLink.innerHTML = docLinkHtml;\n",
              "        element.appendChild(docLink);\n",
              "      }\n",
              "    </script>\n",
              "  </div>\n",
              "\n",
              "\n",
              "    <div id=\"df-88278480-bee3-471a-bf5c-f8a805ae5523\">\n",
              "      <button class=\"colab-df-quickchart\" onclick=\"quickchart('df-88278480-bee3-471a-bf5c-f8a805ae5523')\"\n",
              "                title=\"Suggest charts\"\n",
              "                style=\"display:none;\">\n",
              "\n",
              "<svg xmlns=\"http://www.w3.org/2000/svg\" height=\"24px\"viewBox=\"0 0 24 24\"\n",
              "     width=\"24px\">\n",
              "    <g>\n",
              "        <path d=\"M19 3H5c-1.1 0-2 .9-2 2v14c0 1.1.9 2 2 2h14c1.1 0 2-.9 2-2V5c0-1.1-.9-2-2-2zM9 17H7v-7h2v7zm4 0h-2V7h2v10zm4 0h-2v-4h2v4z\"/>\n",
              "    </g>\n",
              "</svg>\n",
              "      </button>\n",
              "\n",
              "<style>\n",
              "  .colab-df-quickchart {\n",
              "      --bg-color: #E8F0FE;\n",
              "      --fill-color: #1967D2;\n",
              "      --hover-bg-color: #E2EBFA;\n",
              "      --hover-fill-color: #174EA6;\n",
              "      --disabled-fill-color: #AAA;\n",
              "      --disabled-bg-color: #DDD;\n",
              "  }\n",
              "\n",
              "  [theme=dark] .colab-df-quickchart {\n",
              "      --bg-color: #3B4455;\n",
              "      --fill-color: #D2E3FC;\n",
              "      --hover-bg-color: #434B5C;\n",
              "      --hover-fill-color: #FFFFFF;\n",
              "      --disabled-bg-color: #3B4455;\n",
              "      --disabled-fill-color: #666;\n",
              "  }\n",
              "\n",
              "  .colab-df-quickchart {\n",
              "    background-color: var(--bg-color);\n",
              "    border: none;\n",
              "    border-radius: 50%;\n",
              "    cursor: pointer;\n",
              "    display: none;\n",
              "    fill: var(--fill-color);\n",
              "    height: 32px;\n",
              "    padding: 0;\n",
              "    width: 32px;\n",
              "  }\n",
              "\n",
              "  .colab-df-quickchart:hover {\n",
              "    background-color: var(--hover-bg-color);\n",
              "    box-shadow: 0 1px 2px rgba(60, 64, 67, 0.3), 0 1px 3px 1px rgba(60, 64, 67, 0.15);\n",
              "    fill: var(--button-hover-fill-color);\n",
              "  }\n",
              "\n",
              "  .colab-df-quickchart-complete:disabled,\n",
              "  .colab-df-quickchart-complete:disabled:hover {\n",
              "    background-color: var(--disabled-bg-color);\n",
              "    fill: var(--disabled-fill-color);\n",
              "    box-shadow: none;\n",
              "  }\n",
              "\n",
              "  .colab-df-spinner {\n",
              "    border: 2px solid var(--fill-color);\n",
              "    border-color: transparent;\n",
              "    border-bottom-color: var(--fill-color);\n",
              "    animation:\n",
              "      spin 1s steps(1) infinite;\n",
              "  }\n",
              "\n",
              "  @keyframes spin {\n",
              "    0% {\n",
              "      border-color: transparent;\n",
              "      border-bottom-color: var(--fill-color);\n",
              "      border-left-color: var(--fill-color);\n",
              "    }\n",
              "    20% {\n",
              "      border-color: transparent;\n",
              "      border-left-color: var(--fill-color);\n",
              "      border-top-color: var(--fill-color);\n",
              "    }\n",
              "    30% {\n",
              "      border-color: transparent;\n",
              "      border-left-color: var(--fill-color);\n",
              "      border-top-color: var(--fill-color);\n",
              "      border-right-color: var(--fill-color);\n",
              "    }\n",
              "    40% {\n",
              "      border-color: transparent;\n",
              "      border-right-color: var(--fill-color);\n",
              "      border-top-color: var(--fill-color);\n",
              "    }\n",
              "    60% {\n",
              "      border-color: transparent;\n",
              "      border-right-color: var(--fill-color);\n",
              "    }\n",
              "    80% {\n",
              "      border-color: transparent;\n",
              "      border-right-color: var(--fill-color);\n",
              "      border-bottom-color: var(--fill-color);\n",
              "    }\n",
              "    90% {\n",
              "      border-color: transparent;\n",
              "      border-bottom-color: var(--fill-color);\n",
              "    }\n",
              "  }\n",
              "</style>\n",
              "\n",
              "      <script>\n",
              "        async function quickchart(key) {\n",
              "          const quickchartButtonEl =\n",
              "            document.querySelector('#' + key + ' button');\n",
              "          quickchartButtonEl.disabled = true;  // To prevent multiple clicks.\n",
              "          quickchartButtonEl.classList.add('colab-df-spinner');\n",
              "          try {\n",
              "            const charts = await google.colab.kernel.invokeFunction(\n",
              "                'suggestCharts', [key], {});\n",
              "          } catch (error) {\n",
              "            console.error('Error during call to suggestCharts:', error);\n",
              "          }\n",
              "          quickchartButtonEl.classList.remove('colab-df-spinner');\n",
              "          quickchartButtonEl.classList.add('colab-df-quickchart-complete');\n",
              "        }\n",
              "        (() => {\n",
              "          let quickchartButtonEl =\n",
              "            document.querySelector('#df-88278480-bee3-471a-bf5c-f8a805ae5523 button');\n",
              "          quickchartButtonEl.style.display =\n",
              "            google.colab.kernel.accessAllowed ? 'block' : 'none';\n",
              "        })();\n",
              "      </script>\n",
              "    </div>\n",
              "\n",
              "    </div>\n",
              "  </div>\n"
            ],
            "application/vnd.google.colaboratory.intrinsic+json": {
              "type": "dataframe",
              "variable_name": "data",
              "summary": "{\n  \"name\": \"data\",\n  \"rows\": 80000,\n  \"fields\": [\n    {\n      \"column\": \"time\",\n      \"properties\": {\n        \"dtype\": \"number\",\n        \"std\": 23095,\n        \"min\": 0,\n        \"max\": 80004,\n        \"num_unique_values\": 80000,\n        \"samples\": [\n          47049,\n          44300,\n          74788\n        ],\n        \"semantic_type\": \"\",\n        \"description\": \"\"\n      }\n    },\n    {\n      \"column\": \"A\",\n      \"properties\": {\n        \"dtype\": \"number\",\n        \"std\": 1.078270576292438,\n        \"min\": -0.6427883335364912,\n        \"max\": 24.91754941717799,\n        \"num_unique_values\": 80000,\n        \"samples\": [\n          -0.4745018130957945,\n          -0.1187268121981015,\n          0.0711460452557454\n        ],\n        \"semantic_type\": \"\",\n        \"description\": \"\"\n      }\n    },\n    {\n      \"column\": \"B\",\n      \"properties\": {\n        \"dtype\": \"number\",\n        \"std\": 1.031052524688059,\n        \"min\": -0.7711788136682182,\n        \"max\": 53.667012858898566,\n        \"num_unique_values\": 80000,\n        \"samples\": [\n          -0.3855887957531383,\n          -0.3903155163222674,\n          1.1558241206404978\n        ],\n        \"semantic_type\": \"\",\n        \"description\": \"\"\n      }\n    },\n    {\n      \"column\": \"C\",\n      \"properties\": {\n        \"dtype\": \"number\",\n        \"std\": 1.010158217932286,\n        \"min\": -30.068210291008764,\n        \"max\": 29.31275582352798,\n        \"num_unique_values\": 80000,\n        \"samples\": [\n          0.0937289874282608,\n          -1.1017419866731373,\n          1.1857898447569903\n        ],\n        \"semantic_type\": \"\",\n        \"description\": \"\"\n      }\n    },\n    {\n      \"column\": \"D\",\n      \"properties\": {\n        \"dtype\": \"number\",\n        \"std\": 1.0472743526136181,\n        \"min\": -0.899105020587681,\n        \"max\": 28.490356498593897,\n        \"num_unique_values\": 80000,\n        \"samples\": [\n          -0.4952442839339938,\n          0.2384490194737518,\n          0.1102183815737787\n        ],\n        \"semantic_type\": \"\",\n        \"description\": \"\"\n      }\n    },\n    {\n      \"column\": \"E\",\n      \"properties\": {\n        \"dtype\": \"number\",\n        \"std\": 1.036233395044835,\n        \"min\": -29.530710494728137,\n        \"max\": 39.32229991824546,\n        \"num_unique_values\": 80000,\n        \"samples\": [\n          0.2177159192713403,\n          -1.1497728006177867,\n          -0.1315807001956769\n        ],\n        \"semantic_type\": \"\",\n        \"description\": \"\"\n      }\n    },\n    {\n      \"column\": \"F\",\n      \"properties\": {\n        \"dtype\": \"number\",\n        \"std\": 1.0691821663609877,\n        \"min\": -0.7376943165504932,\n        \"max\": 46.8376116585793,\n        \"num_unique_values\": 80000,\n        \"samples\": [\n          -0.4950024196455078,\n          -0.1550382235848771,\n          0.5361815309956045\n        ],\n        \"semantic_type\": \"\",\n        \"description\": \"\"\n      }\n    },\n    {\n      \"column\": \"G\",\n      \"properties\": {\n        \"dtype\": \"number\",\n        \"std\": 1.0362697951073683,\n        \"min\": -35.71505304083036,\n        \"max\": 22.023251688894632,\n        \"num_unique_values\": 80000,\n        \"samples\": [\n          0.0392202310633205,\n          -1.2029557858872797,\n          1.6069956622698185\n        ],\n        \"semantic_type\": \"\",\n        \"description\": \"\"\n      }\n    },\n    {\n      \"column\": \"H\",\n      \"properties\": {\n        \"dtype\": \"number\",\n        \"std\": 1.040707843726516,\n        \"min\": -23.59889222065866,\n        \"max\": 20.63497255129045,\n        \"num_unique_values\": 80000,\n        \"samples\": [\n          0.1030786431434192,\n          -1.3051659408360663,\n          1.3597166854416316\n        ],\n        \"semantic_type\": \"\",\n        \"description\": \"\"\n      }\n    },\n    {\n      \"column\": \"I\",\n      \"properties\": {\n        \"dtype\": \"number\",\n        \"std\": 1.064972195367509,\n        \"min\": -0.762270911075895,\n        \"max\": 33.60455124776772,\n        \"num_unique_values\": 80000,\n        \"samples\": [\n          -0.5623727051956908,\n          -0.0706692914713967,\n          0.867928695645583\n        ],\n        \"semantic_type\": \"\",\n        \"description\": \"\"\n      }\n    },\n    {\n      \"column\": \"J\",\n      \"properties\": {\n        \"dtype\": \"number\",\n        \"std\": 1.0152651237345705,\n        \"min\": -34.806014879589675,\n        \"max\": 19.11776580248977,\n        \"num_unique_values\": 80000,\n        \"samples\": [\n          0.2037799805003677,\n          -0.4361151296067129,\n          1.5529840175286984\n        ],\n        \"semantic_type\": \"\",\n        \"description\": \"\"\n      }\n    },\n    {\n      \"column\": \"K\",\n      \"properties\": {\n        \"dtype\": \"number\",\n        \"std\": 1.0380074608506222,\n        \"min\": -0.7291401330117468,\n        \"max\": 49.27861747206906,\n        \"num_unique_values\": 80000,\n        \"samples\": [\n          -0.3014482799617619,\n          -0.2311796527771372,\n          0.7808449808842978\n        ],\n        \"semantic_type\": \"\",\n        \"description\": \"\"\n      }\n    },\n    {\n      \"column\": \"L\",\n      \"properties\": {\n        \"dtype\": \"number\",\n        \"std\": 1.0578567300213577,\n        \"min\": -0.734871806585238,\n        \"max\": 38.84987386441717,\n        \"num_unique_values\": 80000,\n        \"samples\": [\n          -0.4368966603417328,\n          0.9018977608758272,\n          0.4233138828608626\n        ],\n        \"semantic_type\": \"\",\n        \"description\": \"\"\n      }\n    },\n    {\n      \"column\": \"M\",\n      \"properties\": {\n        \"dtype\": \"number\",\n        \"std\": 1.0127437835389603,\n        \"min\": -29.342481070894493,\n        \"max\": 27.17946269921633,\n        \"num_unique_values\": 80000,\n        \"samples\": [\n          0.150254530375196,\n          -1.1305513683627657,\n          0.548181636247728\n        ],\n        \"semantic_type\": \"\",\n        \"description\": \"\"\n      }\n    },\n    {\n      \"column\": \"N\",\n      \"properties\": {\n        \"dtype\": \"number\",\n        \"std\": 1.0253955736032612,\n        \"min\": -49.86991266681426,\n        \"max\": 32.48822686660071,\n        \"num_unique_values\": 80000,\n        \"samples\": [\n          0.0280357863509646,\n          -0.3941118754818173,\n          2.0673406815073645\n        ],\n        \"semantic_type\": \"\",\n        \"description\": \"\"\n      }\n    },\n    {\n      \"column\": \"Y1\",\n      \"properties\": {\n        \"dtype\": \"number\",\n        \"std\": 0.9706552795821607,\n        \"min\": -28.9181795461607,\n        \"max\": 29.859458454056327,\n        \"num_unique_values\": 80000,\n        \"samples\": [\n          -0.0434109091796444,\n          -0.4730683381645905,\n          1.8605270764941784\n        ],\n        \"semantic_type\": \"\",\n        \"description\": \"\"\n      }\n    },\n    {\n      \"column\": \"Y2\",\n      \"properties\": {\n        \"dtype\": \"number\",\n        \"std\": 0.9237017793453549,\n        \"min\": -0.8507991164008696,\n        \"max\": 34.63603924182771,\n        \"num_unique_values\": 80000,\n        \"samples\": [\n          -0.6209774846523864,\n          -0.2196512056572089,\n          1.9062441765642573\n        ],\n        \"semantic_type\": \"\",\n        \"description\": \"\"\n      }\n    }\n  ]\n}"
            }
          },
          "metadata": {},
          "execution_count": 5
        }
      ],
      "source": [
        "data.head()"
      ]
    },
    {
      "cell_type": "code",
      "execution_count": null,
      "id": "6a1a5670-2c73-43eb-a60e-24908195bd74",
      "metadata": {
        "id": "6a1a5670-2c73-43eb-a60e-24908195bd74"
      },
      "outputs": [],
      "source": [
        "data_t = pd.read_csv('/content/drive/MyDrive/QC/test.csv')"
      ]
    },
    {
      "cell_type": "code",
      "execution_count": null,
      "id": "fd71e0d4-50f0-4877-8005-69a002d6fd8a",
      "metadata": {
        "colab": {
          "base_uri": "https://localhost:8080/",
          "height": 206
        },
        "id": "fd71e0d4-50f0-4877-8005-69a002d6fd8a",
        "outputId": "59407a53-c829-4418-f559-15d9a65d2d9c"
      },
      "outputs": [
        {
          "output_type": "execute_result",
          "data": {
            "text/plain": [
              "   id   time         A         B         C         D         E         F  \\\n",
              "0   1  80005 -0.371888 -0.273485  0.538326 -0.377691  1.283159 -0.286957   \n",
              "1   2  80006 -0.459598 -0.514915 -0.235153 -0.262379  0.044343 -0.429888   \n",
              "2   3  80007 -0.381609 -0.265023 -0.629131 -0.186288 -0.146302 -0.357875   \n",
              "3   4  80008 -0.371423 -0.106279 -1.142702 -0.200429 -0.176918 -0.354048   \n",
              "4   5  80009 -0.309393 -0.015144 -1.099371 -0.405841 -0.239068 -0.403306   \n",
              "\n",
              "          G         H         I         J         K         L         M  \\\n",
              "0  0.439415  0.020831 -0.295480  0.117643 -0.369900 -0.378902  0.470166   \n",
              "1 -0.059034 -0.725713 -0.407681 -0.255702 -0.461901 -0.249516 -0.216745   \n",
              "2  0.114223 -0.359341 -0.190712 -0.404083 -0.272153 -0.193158 -0.679351   \n",
              "3 -0.230199 -0.305226  0.185342 -0.333010  0.518678 -0.028775 -0.610620   \n",
              "4 -0.983134 -1.067315 -0.105132 -0.809948  0.185197 -0.150254 -1.080190   \n",
              "\n",
              "          N  \n",
              "0  0.411796  \n",
              "1 -0.328599  \n",
              "2 -0.476331  \n",
              "3 -0.846772  \n",
              "4 -0.685936  "
            ],
            "text/html": [
              "\n",
              "  <div id=\"df-bd760661-25e7-4c2d-a554-80b6dc904a61\" class=\"colab-df-container\">\n",
              "    <div>\n",
              "<style scoped>\n",
              "    .dataframe tbody tr th:only-of-type {\n",
              "        vertical-align: middle;\n",
              "    }\n",
              "\n",
              "    .dataframe tbody tr th {\n",
              "        vertical-align: top;\n",
              "    }\n",
              "\n",
              "    .dataframe thead th {\n",
              "        text-align: right;\n",
              "    }\n",
              "</style>\n",
              "<table border=\"1\" class=\"dataframe\">\n",
              "  <thead>\n",
              "    <tr style=\"text-align: right;\">\n",
              "      <th></th>\n",
              "      <th>id</th>\n",
              "      <th>time</th>\n",
              "      <th>A</th>\n",
              "      <th>B</th>\n",
              "      <th>C</th>\n",
              "      <th>D</th>\n",
              "      <th>E</th>\n",
              "      <th>F</th>\n",
              "      <th>G</th>\n",
              "      <th>H</th>\n",
              "      <th>I</th>\n",
              "      <th>J</th>\n",
              "      <th>K</th>\n",
              "      <th>L</th>\n",
              "      <th>M</th>\n",
              "      <th>N</th>\n",
              "    </tr>\n",
              "  </thead>\n",
              "  <tbody>\n",
              "    <tr>\n",
              "      <th>0</th>\n",
              "      <td>1</td>\n",
              "      <td>80005</td>\n",
              "      <td>-0.371888</td>\n",
              "      <td>-0.273485</td>\n",
              "      <td>0.538326</td>\n",
              "      <td>-0.377691</td>\n",
              "      <td>1.283159</td>\n",
              "      <td>-0.286957</td>\n",
              "      <td>0.439415</td>\n",
              "      <td>0.020831</td>\n",
              "      <td>-0.295480</td>\n",
              "      <td>0.117643</td>\n",
              "      <td>-0.369900</td>\n",
              "      <td>-0.378902</td>\n",
              "      <td>0.470166</td>\n",
              "      <td>0.411796</td>\n",
              "    </tr>\n",
              "    <tr>\n",
              "      <th>1</th>\n",
              "      <td>2</td>\n",
              "      <td>80006</td>\n",
              "      <td>-0.459598</td>\n",
              "      <td>-0.514915</td>\n",
              "      <td>-0.235153</td>\n",
              "      <td>-0.262379</td>\n",
              "      <td>0.044343</td>\n",
              "      <td>-0.429888</td>\n",
              "      <td>-0.059034</td>\n",
              "      <td>-0.725713</td>\n",
              "      <td>-0.407681</td>\n",
              "      <td>-0.255702</td>\n",
              "      <td>-0.461901</td>\n",
              "      <td>-0.249516</td>\n",
              "      <td>-0.216745</td>\n",
              "      <td>-0.328599</td>\n",
              "    </tr>\n",
              "    <tr>\n",
              "      <th>2</th>\n",
              "      <td>3</td>\n",
              "      <td>80007</td>\n",
              "      <td>-0.381609</td>\n",
              "      <td>-0.265023</td>\n",
              "      <td>-0.629131</td>\n",
              "      <td>-0.186288</td>\n",
              "      <td>-0.146302</td>\n",
              "      <td>-0.357875</td>\n",
              "      <td>0.114223</td>\n",
              "      <td>-0.359341</td>\n",
              "      <td>-0.190712</td>\n",
              "      <td>-0.404083</td>\n",
              "      <td>-0.272153</td>\n",
              "      <td>-0.193158</td>\n",
              "      <td>-0.679351</td>\n",
              "      <td>-0.476331</td>\n",
              "    </tr>\n",
              "    <tr>\n",
              "      <th>3</th>\n",
              "      <td>4</td>\n",
              "      <td>80008</td>\n",
              "      <td>-0.371423</td>\n",
              "      <td>-0.106279</td>\n",
              "      <td>-1.142702</td>\n",
              "      <td>-0.200429</td>\n",
              "      <td>-0.176918</td>\n",
              "      <td>-0.354048</td>\n",
              "      <td>-0.230199</td>\n",
              "      <td>-0.305226</td>\n",
              "      <td>0.185342</td>\n",
              "      <td>-0.333010</td>\n",
              "      <td>0.518678</td>\n",
              "      <td>-0.028775</td>\n",
              "      <td>-0.610620</td>\n",
              "      <td>-0.846772</td>\n",
              "    </tr>\n",
              "    <tr>\n",
              "      <th>4</th>\n",
              "      <td>5</td>\n",
              "      <td>80009</td>\n",
              "      <td>-0.309393</td>\n",
              "      <td>-0.015144</td>\n",
              "      <td>-1.099371</td>\n",
              "      <td>-0.405841</td>\n",
              "      <td>-0.239068</td>\n",
              "      <td>-0.403306</td>\n",
              "      <td>-0.983134</td>\n",
              "      <td>-1.067315</td>\n",
              "      <td>-0.105132</td>\n",
              "      <td>-0.809948</td>\n",
              "      <td>0.185197</td>\n",
              "      <td>-0.150254</td>\n",
              "      <td>-1.080190</td>\n",
              "      <td>-0.685936</td>\n",
              "    </tr>\n",
              "  </tbody>\n",
              "</table>\n",
              "</div>\n",
              "    <div class=\"colab-df-buttons\">\n",
              "\n",
              "  <div class=\"colab-df-container\">\n",
              "    <button class=\"colab-df-convert\" onclick=\"convertToInteractive('df-bd760661-25e7-4c2d-a554-80b6dc904a61')\"\n",
              "            title=\"Convert this dataframe to an interactive table.\"\n",
              "            style=\"display:none;\">\n",
              "\n",
              "  <svg xmlns=\"http://www.w3.org/2000/svg\" height=\"24px\" viewBox=\"0 -960 960 960\">\n",
              "    <path d=\"M120-120v-720h720v720H120Zm60-500h600v-160H180v160Zm220 220h160v-160H400v160Zm0 220h160v-160H400v160ZM180-400h160v-160H180v160Zm440 0h160v-160H620v160ZM180-180h160v-160H180v160Zm440 0h160v-160H620v160Z\"/>\n",
              "  </svg>\n",
              "    </button>\n",
              "\n",
              "  <style>\n",
              "    .colab-df-container {\n",
              "      display:flex;\n",
              "      gap: 12px;\n",
              "    }\n",
              "\n",
              "    .colab-df-convert {\n",
              "      background-color: #E8F0FE;\n",
              "      border: none;\n",
              "      border-radius: 50%;\n",
              "      cursor: pointer;\n",
              "      display: none;\n",
              "      fill: #1967D2;\n",
              "      height: 32px;\n",
              "      padding: 0 0 0 0;\n",
              "      width: 32px;\n",
              "    }\n",
              "\n",
              "    .colab-df-convert:hover {\n",
              "      background-color: #E2EBFA;\n",
              "      box-shadow: 0px 1px 2px rgba(60, 64, 67, 0.3), 0px 1px 3px 1px rgba(60, 64, 67, 0.15);\n",
              "      fill: #174EA6;\n",
              "    }\n",
              "\n",
              "    .colab-df-buttons div {\n",
              "      margin-bottom: 4px;\n",
              "    }\n",
              "\n",
              "    [theme=dark] .colab-df-convert {\n",
              "      background-color: #3B4455;\n",
              "      fill: #D2E3FC;\n",
              "    }\n",
              "\n",
              "    [theme=dark] .colab-df-convert:hover {\n",
              "      background-color: #434B5C;\n",
              "      box-shadow: 0px 1px 3px 1px rgba(0, 0, 0, 0.15);\n",
              "      filter: drop-shadow(0px 1px 2px rgba(0, 0, 0, 0.3));\n",
              "      fill: #FFFFFF;\n",
              "    }\n",
              "  </style>\n",
              "\n",
              "    <script>\n",
              "      const buttonEl =\n",
              "        document.querySelector('#df-bd760661-25e7-4c2d-a554-80b6dc904a61 button.colab-df-convert');\n",
              "      buttonEl.style.display =\n",
              "        google.colab.kernel.accessAllowed ? 'block' : 'none';\n",
              "\n",
              "      async function convertToInteractive(key) {\n",
              "        const element = document.querySelector('#df-bd760661-25e7-4c2d-a554-80b6dc904a61');\n",
              "        const dataTable =\n",
              "          await google.colab.kernel.invokeFunction('convertToInteractive',\n",
              "                                                    [key], {});\n",
              "        if (!dataTable) return;\n",
              "\n",
              "        const docLinkHtml = 'Like what you see? Visit the ' +\n",
              "          '<a target=\"_blank\" href=https://colab.research.google.com/notebooks/data_table.ipynb>data table notebook</a>'\n",
              "          + ' to learn more about interactive tables.';\n",
              "        element.innerHTML = '';\n",
              "        dataTable['output_type'] = 'display_data';\n",
              "        await google.colab.output.renderOutput(dataTable, element);\n",
              "        const docLink = document.createElement('div');\n",
              "        docLink.innerHTML = docLinkHtml;\n",
              "        element.appendChild(docLink);\n",
              "      }\n",
              "    </script>\n",
              "  </div>\n",
              "\n",
              "\n",
              "    <div id=\"df-44fff5e8-bbee-4535-81a2-3fee067b7cf3\">\n",
              "      <button class=\"colab-df-quickchart\" onclick=\"quickchart('df-44fff5e8-bbee-4535-81a2-3fee067b7cf3')\"\n",
              "                title=\"Suggest charts\"\n",
              "                style=\"display:none;\">\n",
              "\n",
              "<svg xmlns=\"http://www.w3.org/2000/svg\" height=\"24px\"viewBox=\"0 0 24 24\"\n",
              "     width=\"24px\">\n",
              "    <g>\n",
              "        <path d=\"M19 3H5c-1.1 0-2 .9-2 2v14c0 1.1.9 2 2 2h14c1.1 0 2-.9 2-2V5c0-1.1-.9-2-2-2zM9 17H7v-7h2v7zm4 0h-2V7h2v10zm4 0h-2v-4h2v4z\"/>\n",
              "    </g>\n",
              "</svg>\n",
              "      </button>\n",
              "\n",
              "<style>\n",
              "  .colab-df-quickchart {\n",
              "      --bg-color: #E8F0FE;\n",
              "      --fill-color: #1967D2;\n",
              "      --hover-bg-color: #E2EBFA;\n",
              "      --hover-fill-color: #174EA6;\n",
              "      --disabled-fill-color: #AAA;\n",
              "      --disabled-bg-color: #DDD;\n",
              "  }\n",
              "\n",
              "  [theme=dark] .colab-df-quickchart {\n",
              "      --bg-color: #3B4455;\n",
              "      --fill-color: #D2E3FC;\n",
              "      --hover-bg-color: #434B5C;\n",
              "      --hover-fill-color: #FFFFFF;\n",
              "      --disabled-bg-color: #3B4455;\n",
              "      --disabled-fill-color: #666;\n",
              "  }\n",
              "\n",
              "  .colab-df-quickchart {\n",
              "    background-color: var(--bg-color);\n",
              "    border: none;\n",
              "    border-radius: 50%;\n",
              "    cursor: pointer;\n",
              "    display: none;\n",
              "    fill: var(--fill-color);\n",
              "    height: 32px;\n",
              "    padding: 0;\n",
              "    width: 32px;\n",
              "  }\n",
              "\n",
              "  .colab-df-quickchart:hover {\n",
              "    background-color: var(--hover-bg-color);\n",
              "    box-shadow: 0 1px 2px rgba(60, 64, 67, 0.3), 0 1px 3px 1px rgba(60, 64, 67, 0.15);\n",
              "    fill: var(--button-hover-fill-color);\n",
              "  }\n",
              "\n",
              "  .colab-df-quickchart-complete:disabled,\n",
              "  .colab-df-quickchart-complete:disabled:hover {\n",
              "    background-color: var(--disabled-bg-color);\n",
              "    fill: var(--disabled-fill-color);\n",
              "    box-shadow: none;\n",
              "  }\n",
              "\n",
              "  .colab-df-spinner {\n",
              "    border: 2px solid var(--fill-color);\n",
              "    border-color: transparent;\n",
              "    border-bottom-color: var(--fill-color);\n",
              "    animation:\n",
              "      spin 1s steps(1) infinite;\n",
              "  }\n",
              "\n",
              "  @keyframes spin {\n",
              "    0% {\n",
              "      border-color: transparent;\n",
              "      border-bottom-color: var(--fill-color);\n",
              "      border-left-color: var(--fill-color);\n",
              "    }\n",
              "    20% {\n",
              "      border-color: transparent;\n",
              "      border-left-color: var(--fill-color);\n",
              "      border-top-color: var(--fill-color);\n",
              "    }\n",
              "    30% {\n",
              "      border-color: transparent;\n",
              "      border-left-color: var(--fill-color);\n",
              "      border-top-color: var(--fill-color);\n",
              "      border-right-color: var(--fill-color);\n",
              "    }\n",
              "    40% {\n",
              "      border-color: transparent;\n",
              "      border-right-color: var(--fill-color);\n",
              "      border-top-color: var(--fill-color);\n",
              "    }\n",
              "    60% {\n",
              "      border-color: transparent;\n",
              "      border-right-color: var(--fill-color);\n",
              "    }\n",
              "    80% {\n",
              "      border-color: transparent;\n",
              "      border-right-color: var(--fill-color);\n",
              "      border-bottom-color: var(--fill-color);\n",
              "    }\n",
              "    90% {\n",
              "      border-color: transparent;\n",
              "      border-bottom-color: var(--fill-color);\n",
              "    }\n",
              "  }\n",
              "</style>\n",
              "\n",
              "      <script>\n",
              "        async function quickchart(key) {\n",
              "          const quickchartButtonEl =\n",
              "            document.querySelector('#' + key + ' button');\n",
              "          quickchartButtonEl.disabled = true;  // To prevent multiple clicks.\n",
              "          quickchartButtonEl.classList.add('colab-df-spinner');\n",
              "          try {\n",
              "            const charts = await google.colab.kernel.invokeFunction(\n",
              "                'suggestCharts', [key], {});\n",
              "          } catch (error) {\n",
              "            console.error('Error during call to suggestCharts:', error);\n",
              "          }\n",
              "          quickchartButtonEl.classList.remove('colab-df-spinner');\n",
              "          quickchartButtonEl.classList.add('colab-df-quickchart-complete');\n",
              "        }\n",
              "        (() => {\n",
              "          let quickchartButtonEl =\n",
              "            document.querySelector('#df-44fff5e8-bbee-4535-81a2-3fee067b7cf3 button');\n",
              "          quickchartButtonEl.style.display =\n",
              "            google.colab.kernel.accessAllowed ? 'block' : 'none';\n",
              "        })();\n",
              "      </script>\n",
              "    </div>\n",
              "\n",
              "    </div>\n",
              "  </div>\n"
            ],
            "application/vnd.google.colaboratory.intrinsic+json": {
              "type": "dataframe",
              "variable_name": "data_t",
              "summary": "{\n  \"name\": \"data_t\",\n  \"rows\": 15996,\n  \"fields\": [\n    {\n      \"column\": \"id\",\n      \"properties\": {\n        \"dtype\": \"number\",\n        \"std\": 4617,\n        \"min\": 1,\n        \"max\": 15996,\n        \"num_unique_values\": 15996,\n        \"samples\": [\n          15986,\n          7820,\n          151\n        ],\n        \"semantic_type\": \"\",\n        \"description\": \"\"\n      }\n    },\n    {\n      \"column\": \"time\",\n      \"properties\": {\n        \"dtype\": \"number\",\n        \"std\": 4617,\n        \"min\": 80005,\n        \"max\": 96000,\n        \"num_unique_values\": 15996,\n        \"samples\": [\n          95990,\n          87824,\n          80155\n        ],\n        \"semantic_type\": \"\",\n        \"description\": \"\"\n      }\n    },\n    {\n      \"column\": \"A\",\n      \"properties\": {\n        \"dtype\": \"number\",\n        \"std\": 0.20910813482005294,\n        \"min\": -0.6493647763294409,\n        \"max\": 5.309621030726627,\n        \"num_unique_values\": 15996,\n        \"samples\": [\n          -0.4628188784855698,\n          0.3812233764732998,\n          -0.3595198268263323\n        ],\n        \"semantic_type\": \"\",\n        \"description\": \"\"\n      }\n    },\n    {\n      \"column\": \"B\",\n      \"properties\": {\n        \"dtype\": \"number\",\n        \"std\": 0.8270158668758604,\n        \"min\": -0.7664508559140989,\n        \"max\": 30.42214723502978,\n        \"num_unique_values\": 15996,\n        \"samples\": [\n          -0.2100156927525642,\n          9.279490125064822,\n          -0.4297773427554344\n        ],\n        \"semantic_type\": \"\",\n        \"description\": \"\"\n      }\n    },\n    {\n      \"column\": \"C\",\n      \"properties\": {\n        \"dtype\": \"number\",\n        \"std\": 0.947616468567826,\n        \"min\": -8.826122052128161,\n        \"max\": 15.984901526784762,\n        \"num_unique_values\": 15996,\n        \"samples\": [\n          0.4759299028335464,\n          -3.43920035715286,\n          -0.0758880957467669\n        ],\n        \"semantic_type\": \"\",\n        \"description\": \"\"\n      }\n    },\n    {\n      \"column\": \"D\",\n      \"properties\": {\n        \"dtype\": \"number\",\n        \"std\": 0.6967732685116875,\n        \"min\": -0.8018355840962481,\n        \"max\": 18.323820153810857,\n        \"num_unique_values\": 15996,\n        \"samples\": [\n          -0.6078454168008218,\n          6.99905087185231,\n          -0.4060002881458663\n        ],\n        \"semantic_type\": \"\",\n        \"description\": \"\"\n      }\n    },\n    {\n      \"column\": \"E\",\n      \"properties\": {\n        \"dtype\": \"number\",\n        \"std\": 0.794426539017195,\n        \"min\": -6.930987652038462,\n        \"max\": 11.050382733085543,\n        \"num_unique_values\": 15996,\n        \"samples\": [\n          -0.1974483297131411,\n          -5.369162053876769,\n          -0.5441827588341817\n        ],\n        \"semantic_type\": \"\",\n        \"description\": \"\"\n      }\n    },\n    {\n      \"column\": \"F\",\n      \"properties\": {\n        \"dtype\": \"number\",\n        \"std\": 0.4051080285550117,\n        \"min\": -0.7463171966372056,\n        \"max\": 11.216072815444106,\n        \"num_unique_values\": 15996,\n        \"samples\": [\n          -0.4431814920189186,\n          0.4556497996353303,\n          -0.3842873328169\n        ],\n        \"semantic_type\": \"\",\n        \"description\": \"\"\n      }\n    },\n    {\n      \"column\": \"G\",\n      \"properties\": {\n        \"dtype\": \"number\",\n        \"std\": 0.7941905976627237,\n        \"min\": -8.526117232873409,\n        \"max\": 11.994096277025536,\n        \"num_unique_values\": 15996,\n        \"samples\": [\n          0.1111021732019271,\n          -2.1818705359951296,\n          -0.0039712348405681\n        ],\n        \"semantic_type\": \"\",\n        \"description\": \"\"\n      }\n    },\n    {\n      \"column\": \"H\",\n      \"properties\": {\n        \"dtype\": \"number\",\n        \"std\": 0.7644870964753095,\n        \"min\": -6.563152855299179,\n        \"max\": 8.785264800017085,\n        \"num_unique_values\": 15996,\n        \"samples\": [\n          0.0598979902763425,\n          -2.2625630711413462,\n          0.08201397065134\n        ],\n        \"semantic_type\": \"\",\n        \"description\": \"\"\n      }\n    },\n    {\n      \"column\": \"I\",\n      \"properties\": {\n        \"dtype\": \"number\",\n        \"std\": 0.425857037831335,\n        \"min\": -0.7822392534226408,\n        \"max\": 9.958186339545408,\n        \"num_unique_values\": 15996,\n        \"samples\": [\n          -0.5359009827442947,\n          0.935229565086226,\n          -0.6578022962862257\n        ],\n        \"semantic_type\": \"\",\n        \"description\": \"\"\n      }\n    },\n    {\n      \"column\": \"J\",\n      \"properties\": {\n        \"dtype\": \"number\",\n        \"std\": 0.9199252685169933,\n        \"min\": -8.767836671740916,\n        \"max\": 10.620092538620955,\n        \"num_unique_values\": 15996,\n        \"samples\": [\n          0.0549786376449109,\n          -4.405241954956501,\n          -0.3084039886735916\n        ],\n        \"semantic_type\": \"\",\n        \"description\": \"\"\n      }\n    },\n    {\n      \"column\": \"K\",\n      \"properties\": {\n        \"dtype\": \"number\",\n        \"std\": 0.7827464716868315,\n        \"min\": -0.6599238099166597,\n        \"max\": 27.53254256386713,\n        \"num_unique_values\": 15996,\n        \"samples\": [\n          -0.3651407443709016,\n          5.021783343872506,\n          -0.3990891440868406\n        ],\n        \"semantic_type\": \"\",\n        \"description\": \"\"\n      }\n    },\n    {\n      \"column\": \"L\",\n      \"properties\": {\n        \"dtype\": \"number\",\n        \"std\": 0.6277636988578634,\n        \"min\": -0.7186854980618783,\n        \"max\": 13.47421650486343,\n        \"num_unique_values\": 15996,\n        \"samples\": [\n          -0.0239017600730784,\n          3.2783701573229367,\n          -0.4077337518871967\n        ],\n        \"semantic_type\": \"\",\n        \"description\": \"\"\n      }\n    },\n    {\n      \"column\": \"M\",\n      \"properties\": {\n        \"dtype\": \"number\",\n        \"std\": 0.9337154642708949,\n        \"min\": -9.525321480487884,\n        \"max\": 13.33913008900741,\n        \"num_unique_values\": 15996,\n        \"samples\": [\n          0.5723721041297339,\n          -2.495016332684179,\n          0.2054073293482447\n        ],\n        \"semantic_type\": \"\",\n        \"description\": \"\"\n      }\n    },\n    {\n      \"column\": \"N\",\n      \"properties\": {\n        \"dtype\": \"number\",\n        \"std\": 0.8618850312949787,\n        \"min\": -9.620394496859689,\n        \"max\": 13.952276366809247,\n        \"num_unique_values\": 15996,\n        \"samples\": [\n          0.0546878857965749,\n          -1.620600946632084,\n          0.1062371586206433\n        ],\n        \"semantic_type\": \"\",\n        \"description\": \"\"\n      }\n    }\n  ]\n}"
            }
          },
          "metadata": {},
          "execution_count": 7
        }
      ],
      "source": [
        "data_t.head()"
      ]
    },
    {
      "cell_type": "code",
      "execution_count": null,
      "id": "b00bec5a-10c8-4351-b33a-6ef83ba7bd4b",
      "metadata": {
        "colab": {
          "base_uri": "https://localhost:8080/",
          "height": 320
        },
        "id": "b00bec5a-10c8-4351-b33a-6ef83ba7bd4b",
        "outputId": "32b6c8e4-6277-44fc-b296-1216d022fcc7"
      },
      "outputs": [
        {
          "output_type": "execute_result",
          "data": {
            "text/plain": [
              "               time             A             B             C             D  \\\n",
              "count  80000.000000  80000.000000  80000.000000  80000.000000  80000.000000   \n",
              "mean   40003.926125      0.068979     -0.004927     -0.000802      0.031913   \n",
              "std    23095.035045      1.078271      1.031053      1.010158      1.047274   \n",
              "min        0.000000     -0.642788     -0.771179    -30.068210     -0.899105   \n",
              "25%    20004.750000     -0.374171     -0.451919     -0.417830     -0.500604   \n",
              "50%    40004.500000     -0.264501     -0.285350     -0.003942     -0.279073   \n",
              "75%    60004.250000      0.005451      0.061020      0.414435      0.166928   \n",
              "max    80004.000000     24.917549     53.667013     29.312756     28.490356   \n",
              "\n",
              "                  E             F             G             H             I  \\\n",
              "count  80000.000000  80000.000000  80000.000000  80000.000000  80000.000000   \n",
              "mean      -0.000292      0.063241     -0.000050     -0.002554      0.070158   \n",
              "std        1.036233      1.069182      1.036270      1.040708      1.064972   \n",
              "min      -29.530710     -0.737694    -35.715053    -23.598892     -0.762271   \n",
              "25%       -0.475700     -0.415164     -0.419804     -0.437469     -0.395450   \n",
              "50%       -0.006753     -0.236990     -0.004954      0.006673     -0.186564   \n",
              "75%        0.458875      0.132404      0.421969      0.444982      0.160427   \n",
              "max       39.322300     46.837612     22.023252     20.634973     33.604551   \n",
              "\n",
              "                  J             K             L             M             N  \\\n",
              "count  80000.000000  80000.000000  80000.000000  80000.000000  80000.000000   \n",
              "mean      -0.000028     -0.000803      0.018752     -0.000636      0.000849   \n",
              "std        1.015265      1.038007      1.057857      1.012744      1.025396   \n",
              "min      -34.806015     -0.729140     -0.734872    -29.342481    -49.869913   \n",
              "25%       -0.432185     -0.405350     -0.438401     -0.386474     -0.366045   \n",
              "50%        0.003981     -0.263940     -0.292186      0.004210      0.005000   \n",
              "75%        0.437449      0.033419      0.055187      0.387407      0.367437   \n",
              "max       19.117766     49.278617     38.849874     27.179463     32.488227   \n",
              "\n",
              "                 Y1            Y2  \n",
              "count  80000.000000  80000.000000  \n",
              "mean      -0.002807     -0.061172  \n",
              "std        0.970655      0.923702  \n",
              "min      -28.918180     -0.850799  \n",
              "25%       -0.387523     -0.497802  \n",
              "50%       -0.001591     -0.318091  \n",
              "75%        0.392470      0.026905  \n",
              "max       29.859458     34.636039  "
            ],
            "text/html": [
              "\n",
              "  <div id=\"df-c03a9388-0269-41e0-8eb5-470bad1b8bbf\" class=\"colab-df-container\">\n",
              "    <div>\n",
              "<style scoped>\n",
              "    .dataframe tbody tr th:only-of-type {\n",
              "        vertical-align: middle;\n",
              "    }\n",
              "\n",
              "    .dataframe tbody tr th {\n",
              "        vertical-align: top;\n",
              "    }\n",
              "\n",
              "    .dataframe thead th {\n",
              "        text-align: right;\n",
              "    }\n",
              "</style>\n",
              "<table border=\"1\" class=\"dataframe\">\n",
              "  <thead>\n",
              "    <tr style=\"text-align: right;\">\n",
              "      <th></th>\n",
              "      <th>time</th>\n",
              "      <th>A</th>\n",
              "      <th>B</th>\n",
              "      <th>C</th>\n",
              "      <th>D</th>\n",
              "      <th>E</th>\n",
              "      <th>F</th>\n",
              "      <th>G</th>\n",
              "      <th>H</th>\n",
              "      <th>I</th>\n",
              "      <th>J</th>\n",
              "      <th>K</th>\n",
              "      <th>L</th>\n",
              "      <th>M</th>\n",
              "      <th>N</th>\n",
              "      <th>Y1</th>\n",
              "      <th>Y2</th>\n",
              "    </tr>\n",
              "  </thead>\n",
              "  <tbody>\n",
              "    <tr>\n",
              "      <th>count</th>\n",
              "      <td>80000.000000</td>\n",
              "      <td>80000.000000</td>\n",
              "      <td>80000.000000</td>\n",
              "      <td>80000.000000</td>\n",
              "      <td>80000.000000</td>\n",
              "      <td>80000.000000</td>\n",
              "      <td>80000.000000</td>\n",
              "      <td>80000.000000</td>\n",
              "      <td>80000.000000</td>\n",
              "      <td>80000.000000</td>\n",
              "      <td>80000.000000</td>\n",
              "      <td>80000.000000</td>\n",
              "      <td>80000.000000</td>\n",
              "      <td>80000.000000</td>\n",
              "      <td>80000.000000</td>\n",
              "      <td>80000.000000</td>\n",
              "      <td>80000.000000</td>\n",
              "    </tr>\n",
              "    <tr>\n",
              "      <th>mean</th>\n",
              "      <td>40003.926125</td>\n",
              "      <td>0.068979</td>\n",
              "      <td>-0.004927</td>\n",
              "      <td>-0.000802</td>\n",
              "      <td>0.031913</td>\n",
              "      <td>-0.000292</td>\n",
              "      <td>0.063241</td>\n",
              "      <td>-0.000050</td>\n",
              "      <td>-0.002554</td>\n",
              "      <td>0.070158</td>\n",
              "      <td>-0.000028</td>\n",
              "      <td>-0.000803</td>\n",
              "      <td>0.018752</td>\n",
              "      <td>-0.000636</td>\n",
              "      <td>0.000849</td>\n",
              "      <td>-0.002807</td>\n",
              "      <td>-0.061172</td>\n",
              "    </tr>\n",
              "    <tr>\n",
              "      <th>std</th>\n",
              "      <td>23095.035045</td>\n",
              "      <td>1.078271</td>\n",
              "      <td>1.031053</td>\n",
              "      <td>1.010158</td>\n",
              "      <td>1.047274</td>\n",
              "      <td>1.036233</td>\n",
              "      <td>1.069182</td>\n",
              "      <td>1.036270</td>\n",
              "      <td>1.040708</td>\n",
              "      <td>1.064972</td>\n",
              "      <td>1.015265</td>\n",
              "      <td>1.038007</td>\n",
              "      <td>1.057857</td>\n",
              "      <td>1.012744</td>\n",
              "      <td>1.025396</td>\n",
              "      <td>0.970655</td>\n",
              "      <td>0.923702</td>\n",
              "    </tr>\n",
              "    <tr>\n",
              "      <th>min</th>\n",
              "      <td>0.000000</td>\n",
              "      <td>-0.642788</td>\n",
              "      <td>-0.771179</td>\n",
              "      <td>-30.068210</td>\n",
              "      <td>-0.899105</td>\n",
              "      <td>-29.530710</td>\n",
              "      <td>-0.737694</td>\n",
              "      <td>-35.715053</td>\n",
              "      <td>-23.598892</td>\n",
              "      <td>-0.762271</td>\n",
              "      <td>-34.806015</td>\n",
              "      <td>-0.729140</td>\n",
              "      <td>-0.734872</td>\n",
              "      <td>-29.342481</td>\n",
              "      <td>-49.869913</td>\n",
              "      <td>-28.918180</td>\n",
              "      <td>-0.850799</td>\n",
              "    </tr>\n",
              "    <tr>\n",
              "      <th>25%</th>\n",
              "      <td>20004.750000</td>\n",
              "      <td>-0.374171</td>\n",
              "      <td>-0.451919</td>\n",
              "      <td>-0.417830</td>\n",
              "      <td>-0.500604</td>\n",
              "      <td>-0.475700</td>\n",
              "      <td>-0.415164</td>\n",
              "      <td>-0.419804</td>\n",
              "      <td>-0.437469</td>\n",
              "      <td>-0.395450</td>\n",
              "      <td>-0.432185</td>\n",
              "      <td>-0.405350</td>\n",
              "      <td>-0.438401</td>\n",
              "      <td>-0.386474</td>\n",
              "      <td>-0.366045</td>\n",
              "      <td>-0.387523</td>\n",
              "      <td>-0.497802</td>\n",
              "    </tr>\n",
              "    <tr>\n",
              "      <th>50%</th>\n",
              "      <td>40004.500000</td>\n",
              "      <td>-0.264501</td>\n",
              "      <td>-0.285350</td>\n",
              "      <td>-0.003942</td>\n",
              "      <td>-0.279073</td>\n",
              "      <td>-0.006753</td>\n",
              "      <td>-0.236990</td>\n",
              "      <td>-0.004954</td>\n",
              "      <td>0.006673</td>\n",
              "      <td>-0.186564</td>\n",
              "      <td>0.003981</td>\n",
              "      <td>-0.263940</td>\n",
              "      <td>-0.292186</td>\n",
              "      <td>0.004210</td>\n",
              "      <td>0.005000</td>\n",
              "      <td>-0.001591</td>\n",
              "      <td>-0.318091</td>\n",
              "    </tr>\n",
              "    <tr>\n",
              "      <th>75%</th>\n",
              "      <td>60004.250000</td>\n",
              "      <td>0.005451</td>\n",
              "      <td>0.061020</td>\n",
              "      <td>0.414435</td>\n",
              "      <td>0.166928</td>\n",
              "      <td>0.458875</td>\n",
              "      <td>0.132404</td>\n",
              "      <td>0.421969</td>\n",
              "      <td>0.444982</td>\n",
              "      <td>0.160427</td>\n",
              "      <td>0.437449</td>\n",
              "      <td>0.033419</td>\n",
              "      <td>0.055187</td>\n",
              "      <td>0.387407</td>\n",
              "      <td>0.367437</td>\n",
              "      <td>0.392470</td>\n",
              "      <td>0.026905</td>\n",
              "    </tr>\n",
              "    <tr>\n",
              "      <th>max</th>\n",
              "      <td>80004.000000</td>\n",
              "      <td>24.917549</td>\n",
              "      <td>53.667013</td>\n",
              "      <td>29.312756</td>\n",
              "      <td>28.490356</td>\n",
              "      <td>39.322300</td>\n",
              "      <td>46.837612</td>\n",
              "      <td>22.023252</td>\n",
              "      <td>20.634973</td>\n",
              "      <td>33.604551</td>\n",
              "      <td>19.117766</td>\n",
              "      <td>49.278617</td>\n",
              "      <td>38.849874</td>\n",
              "      <td>27.179463</td>\n",
              "      <td>32.488227</td>\n",
              "      <td>29.859458</td>\n",
              "      <td>34.636039</td>\n",
              "    </tr>\n",
              "  </tbody>\n",
              "</table>\n",
              "</div>\n",
              "    <div class=\"colab-df-buttons\">\n",
              "\n",
              "  <div class=\"colab-df-container\">\n",
              "    <button class=\"colab-df-convert\" onclick=\"convertToInteractive('df-c03a9388-0269-41e0-8eb5-470bad1b8bbf')\"\n",
              "            title=\"Convert this dataframe to an interactive table.\"\n",
              "            style=\"display:none;\">\n",
              "\n",
              "  <svg xmlns=\"http://www.w3.org/2000/svg\" height=\"24px\" viewBox=\"0 -960 960 960\">\n",
              "    <path d=\"M120-120v-720h720v720H120Zm60-500h600v-160H180v160Zm220 220h160v-160H400v160Zm0 220h160v-160H400v160ZM180-400h160v-160H180v160Zm440 0h160v-160H620v160ZM180-180h160v-160H180v160Zm440 0h160v-160H620v160Z\"/>\n",
              "  </svg>\n",
              "    </button>\n",
              "\n",
              "  <style>\n",
              "    .colab-df-container {\n",
              "      display:flex;\n",
              "      gap: 12px;\n",
              "    }\n",
              "\n",
              "    .colab-df-convert {\n",
              "      background-color: #E8F0FE;\n",
              "      border: none;\n",
              "      border-radius: 50%;\n",
              "      cursor: pointer;\n",
              "      display: none;\n",
              "      fill: #1967D2;\n",
              "      height: 32px;\n",
              "      padding: 0 0 0 0;\n",
              "      width: 32px;\n",
              "    }\n",
              "\n",
              "    .colab-df-convert:hover {\n",
              "      background-color: #E2EBFA;\n",
              "      box-shadow: 0px 1px 2px rgba(60, 64, 67, 0.3), 0px 1px 3px 1px rgba(60, 64, 67, 0.15);\n",
              "      fill: #174EA6;\n",
              "    }\n",
              "\n",
              "    .colab-df-buttons div {\n",
              "      margin-bottom: 4px;\n",
              "    }\n",
              "\n",
              "    [theme=dark] .colab-df-convert {\n",
              "      background-color: #3B4455;\n",
              "      fill: #D2E3FC;\n",
              "    }\n",
              "\n",
              "    [theme=dark] .colab-df-convert:hover {\n",
              "      background-color: #434B5C;\n",
              "      box-shadow: 0px 1px 3px 1px rgba(0, 0, 0, 0.15);\n",
              "      filter: drop-shadow(0px 1px 2px rgba(0, 0, 0, 0.3));\n",
              "      fill: #FFFFFF;\n",
              "    }\n",
              "  </style>\n",
              "\n",
              "    <script>\n",
              "      const buttonEl =\n",
              "        document.querySelector('#df-c03a9388-0269-41e0-8eb5-470bad1b8bbf button.colab-df-convert');\n",
              "      buttonEl.style.display =\n",
              "        google.colab.kernel.accessAllowed ? 'block' : 'none';\n",
              "\n",
              "      async function convertToInteractive(key) {\n",
              "        const element = document.querySelector('#df-c03a9388-0269-41e0-8eb5-470bad1b8bbf');\n",
              "        const dataTable =\n",
              "          await google.colab.kernel.invokeFunction('convertToInteractive',\n",
              "                                                    [key], {});\n",
              "        if (!dataTable) return;\n",
              "\n",
              "        const docLinkHtml = 'Like what you see? Visit the ' +\n",
              "          '<a target=\"_blank\" href=https://colab.research.google.com/notebooks/data_table.ipynb>data table notebook</a>'\n",
              "          + ' to learn more about interactive tables.';\n",
              "        element.innerHTML = '';\n",
              "        dataTable['output_type'] = 'display_data';\n",
              "        await google.colab.output.renderOutput(dataTable, element);\n",
              "        const docLink = document.createElement('div');\n",
              "        docLink.innerHTML = docLinkHtml;\n",
              "        element.appendChild(docLink);\n",
              "      }\n",
              "    </script>\n",
              "  </div>\n",
              "\n",
              "\n",
              "    <div id=\"df-a3e52dca-75ce-44fd-be16-502a942904f7\">\n",
              "      <button class=\"colab-df-quickchart\" onclick=\"quickchart('df-a3e52dca-75ce-44fd-be16-502a942904f7')\"\n",
              "                title=\"Suggest charts\"\n",
              "                style=\"display:none;\">\n",
              "\n",
              "<svg xmlns=\"http://www.w3.org/2000/svg\" height=\"24px\"viewBox=\"0 0 24 24\"\n",
              "     width=\"24px\">\n",
              "    <g>\n",
              "        <path d=\"M19 3H5c-1.1 0-2 .9-2 2v14c0 1.1.9 2 2 2h14c1.1 0 2-.9 2-2V5c0-1.1-.9-2-2-2zM9 17H7v-7h2v7zm4 0h-2V7h2v10zm4 0h-2v-4h2v4z\"/>\n",
              "    </g>\n",
              "</svg>\n",
              "      </button>\n",
              "\n",
              "<style>\n",
              "  .colab-df-quickchart {\n",
              "      --bg-color: #E8F0FE;\n",
              "      --fill-color: #1967D2;\n",
              "      --hover-bg-color: #E2EBFA;\n",
              "      --hover-fill-color: #174EA6;\n",
              "      --disabled-fill-color: #AAA;\n",
              "      --disabled-bg-color: #DDD;\n",
              "  }\n",
              "\n",
              "  [theme=dark] .colab-df-quickchart {\n",
              "      --bg-color: #3B4455;\n",
              "      --fill-color: #D2E3FC;\n",
              "      --hover-bg-color: #434B5C;\n",
              "      --hover-fill-color: #FFFFFF;\n",
              "      --disabled-bg-color: #3B4455;\n",
              "      --disabled-fill-color: #666;\n",
              "  }\n",
              "\n",
              "  .colab-df-quickchart {\n",
              "    background-color: var(--bg-color);\n",
              "    border: none;\n",
              "    border-radius: 50%;\n",
              "    cursor: pointer;\n",
              "    display: none;\n",
              "    fill: var(--fill-color);\n",
              "    height: 32px;\n",
              "    padding: 0;\n",
              "    width: 32px;\n",
              "  }\n",
              "\n",
              "  .colab-df-quickchart:hover {\n",
              "    background-color: var(--hover-bg-color);\n",
              "    box-shadow: 0 1px 2px rgba(60, 64, 67, 0.3), 0 1px 3px 1px rgba(60, 64, 67, 0.15);\n",
              "    fill: var(--button-hover-fill-color);\n",
              "  }\n",
              "\n",
              "  .colab-df-quickchart-complete:disabled,\n",
              "  .colab-df-quickchart-complete:disabled:hover {\n",
              "    background-color: var(--disabled-bg-color);\n",
              "    fill: var(--disabled-fill-color);\n",
              "    box-shadow: none;\n",
              "  }\n",
              "\n",
              "  .colab-df-spinner {\n",
              "    border: 2px solid var(--fill-color);\n",
              "    border-color: transparent;\n",
              "    border-bottom-color: var(--fill-color);\n",
              "    animation:\n",
              "      spin 1s steps(1) infinite;\n",
              "  }\n",
              "\n",
              "  @keyframes spin {\n",
              "    0% {\n",
              "      border-color: transparent;\n",
              "      border-bottom-color: var(--fill-color);\n",
              "      border-left-color: var(--fill-color);\n",
              "    }\n",
              "    20% {\n",
              "      border-color: transparent;\n",
              "      border-left-color: var(--fill-color);\n",
              "      border-top-color: var(--fill-color);\n",
              "    }\n",
              "    30% {\n",
              "      border-color: transparent;\n",
              "      border-left-color: var(--fill-color);\n",
              "      border-top-color: var(--fill-color);\n",
              "      border-right-color: var(--fill-color);\n",
              "    }\n",
              "    40% {\n",
              "      border-color: transparent;\n",
              "      border-right-color: var(--fill-color);\n",
              "      border-top-color: var(--fill-color);\n",
              "    }\n",
              "    60% {\n",
              "      border-color: transparent;\n",
              "      border-right-color: var(--fill-color);\n",
              "    }\n",
              "    80% {\n",
              "      border-color: transparent;\n",
              "      border-right-color: var(--fill-color);\n",
              "      border-bottom-color: var(--fill-color);\n",
              "    }\n",
              "    90% {\n",
              "      border-color: transparent;\n",
              "      border-bottom-color: var(--fill-color);\n",
              "    }\n",
              "  }\n",
              "</style>\n",
              "\n",
              "      <script>\n",
              "        async function quickchart(key) {\n",
              "          const quickchartButtonEl =\n",
              "            document.querySelector('#' + key + ' button');\n",
              "          quickchartButtonEl.disabled = true;  // To prevent multiple clicks.\n",
              "          quickchartButtonEl.classList.add('colab-df-spinner');\n",
              "          try {\n",
              "            const charts = await google.colab.kernel.invokeFunction(\n",
              "                'suggestCharts', [key], {});\n",
              "          } catch (error) {\n",
              "            console.error('Error during call to suggestCharts:', error);\n",
              "          }\n",
              "          quickchartButtonEl.classList.remove('colab-df-spinner');\n",
              "          quickchartButtonEl.classList.add('colab-df-quickchart-complete');\n",
              "        }\n",
              "        (() => {\n",
              "          let quickchartButtonEl =\n",
              "            document.querySelector('#df-a3e52dca-75ce-44fd-be16-502a942904f7 button');\n",
              "          quickchartButtonEl.style.display =\n",
              "            google.colab.kernel.accessAllowed ? 'block' : 'none';\n",
              "        })();\n",
              "      </script>\n",
              "    </div>\n",
              "\n",
              "    </div>\n",
              "  </div>\n"
            ],
            "application/vnd.google.colaboratory.intrinsic+json": {
              "type": "dataframe",
              "summary": "{\n  \"name\": \"data\",\n  \"rows\": 8,\n  \"fields\": [\n    {\n      \"column\": \"time\",\n      \"properties\": {\n        \"dtype\": \"number\",\n        \"std\": 28832.723436334025,\n        \"min\": 0.0,\n        \"max\": 80004.0,\n        \"num_unique_values\": 8,\n        \"samples\": [\n          40003.926125,\n          40004.5,\n          80000.0\n        ],\n        \"semantic_type\": \"\",\n        \"description\": \"\"\n      }\n    },\n    {\n      \"column\": \"A\",\n      \"properties\": {\n        \"dtype\": \"number\",\n        \"std\": 28283.020575311795,\n        \"min\": -0.6427883335364912,\n        \"max\": 80000.0,\n        \"num_unique_values\": 8,\n        \"samples\": [\n          0.06897902942587102,\n          -0.2645006745597708,\n          80000.0\n        ],\n        \"semantic_type\": \"\",\n        \"description\": \"\"\n      }\n    },\n    {\n      \"column\": \"B\",\n      \"properties\": {\n        \"dtype\": \"number\",\n        \"std\": 28281.588189137936,\n        \"min\": -0.7711788136682182,\n        \"max\": 80000.0,\n        \"num_unique_values\": 8,\n        \"samples\": [\n          -0.004926928382793301,\n          -0.28534965610327556,\n          80000.0\n        ],\n        \"semantic_type\": \"\",\n        \"description\": \"\"\n      }\n    },\n    {\n      \"column\": \"C\",\n      \"properties\": {\n        \"dtype\": \"number\",\n        \"std\": 28284.263250586093,\n        \"min\": -30.068210291008764,\n        \"max\": 80000.0,\n        \"num_unique_values\": 8,\n        \"samples\": [\n          -0.000801919120642728,\n          -0.00394169454715005,\n          80000.0\n        ],\n        \"semantic_type\": \"\",\n        \"description\": \"\"\n      }\n    },\n    {\n      \"column\": \"D\",\n      \"properties\": {\n        \"dtype\": \"number\",\n        \"std\": 28282.855891775533,\n        \"min\": -0.899105020587681,\n        \"max\": 80000.0,\n        \"num_unique_values\": 8,\n        \"samples\": [\n          0.031912935096836355,\n          -0.2790726884764039,\n          80000.0\n        ],\n        \"semantic_type\": \"\",\n        \"description\": \"\"\n      }\n    },\n    {\n      \"column\": \"E\",\n      \"properties\": {\n        \"dtype\": \"number\",\n        \"std\": 28283.731634444644,\n        \"min\": -29.530710494728137,\n        \"max\": 80000.0,\n        \"num_unique_values\": 8,\n        \"samples\": [\n          -0.00029227528834771944,\n          -0.00675322902514335,\n          80000.0\n        ],\n        \"semantic_type\": \"\",\n        \"description\": \"\"\n      }\n    },\n    {\n      \"column\": \"F\",\n      \"properties\": {\n        \"dtype\": \"number\",\n        \"std\": 28281.91666348587,\n        \"min\": -0.7376943165504932,\n        \"max\": 80000.0,\n        \"num_unique_values\": 8,\n        \"samples\": [\n          0.06324099153273999,\n          -0.23698958939552967,\n          80000.0\n        ],\n        \"semantic_type\": \"\",\n        \"description\": \"\"\n      }\n    },\n    {\n      \"column\": \"G\",\n      \"properties\": {\n        \"dtype\": \"number\",\n        \"std\": 28284.91498355474,\n        \"min\": -35.71505304083036,\n        \"max\": 80000.0,\n        \"num_unique_values\": 8,\n        \"samples\": [\n          -5.003252213694225e-05,\n          -0.0049542279512429,\n          80000.0\n        ],\n        \"semantic_type\": \"\",\n        \"description\": \"\"\n      }\n    },\n    {\n      \"column\": \"H\",\n      \"properties\": {\n        \"dtype\": \"number\",\n        \"std\": 28284.370280906518,\n        \"min\": -23.59889222065866,\n        \"max\": 80000.0,\n        \"num_unique_values\": 8,\n        \"samples\": [\n          -0.0025540052753850987,\n          0.0066734993588947,\n          80000.0\n        ],\n        \"semantic_type\": \"\",\n        \"description\": \"\"\n      }\n    },\n    {\n      \"column\": \"I\",\n      \"properties\": {\n        \"dtype\": \"number\",\n        \"std\": 28282.57887309332,\n        \"min\": -0.762270911075895,\n        \"max\": 80000.0,\n        \"num_unique_values\": 8,\n        \"samples\": [\n          0.07015784261058308,\n          -0.1865638845019516,\n          80000.0\n        ],\n        \"semantic_type\": \"\",\n        \"description\": \"\"\n      }\n    },\n    {\n      \"column\": \"J\",\n      \"properties\": {\n        \"dtype\": \"number\",\n        \"std\": 28285.015787751305,\n        \"min\": -34.806014879589675,\n        \"max\": 80000.0,\n        \"num_unique_values\": 8,\n        \"samples\": [\n          -2.7517222285117705e-05,\n          0.0039807785871413,\n          80000.0\n        ],\n        \"semantic_type\": \"\",\n        \"description\": \"\"\n      }\n    },\n    {\n      \"column\": \"K\",\n      \"properties\": {\n        \"dtype\": \"number\",\n        \"std\": 28281.804131342356,\n        \"min\": -0.7291401330117468,\n        \"max\": 80000.0,\n        \"num_unique_values\": 8,\n        \"samples\": [\n          -0.000802508734928017,\n          -0.26393956841652333,\n          80000.0\n        ],\n        \"semantic_type\": \"\",\n        \"description\": \"\"\n      }\n    },\n    {\n      \"column\": \"L\",\n      \"properties\": {\n        \"dtype\": \"number\",\n        \"std\": 28282.329166556756,\n        \"min\": -0.734871806585238,\n        \"max\": 80000.0,\n        \"num_unique_values\": 8,\n        \"samples\": [\n          0.018752179771802026,\n          -0.29218635266317744,\n          80000.0\n        ],\n        \"semantic_type\": \"\",\n        \"description\": \"\"\n      }\n    },\n    {\n      \"column\": \"M\",\n      \"properties\": {\n        \"dtype\": \"number\",\n        \"std\": 28284.33316016709,\n        \"min\": -29.342481070894493,\n        \"max\": 80000.0,\n        \"num_unique_values\": 8,\n        \"samples\": [\n          -0.0006356642731765661,\n          0.0042100065514955,\n          80000.0\n        ],\n        \"semantic_type\": \"\",\n        \"description\": \"\"\n      }\n    },\n    {\n      \"column\": \"N\",\n      \"properties\": {\n        \"dtype\": \"number\",\n        \"std\": 28285.10585191289,\n        \"min\": -49.86991266681426,\n        \"max\": 80000.0,\n        \"num_unique_values\": 8,\n        \"samples\": [\n          0.0008491283022358758,\n          0.0049999847584626,\n          80000.0\n        ],\n        \"semantic_type\": \"\",\n        \"description\": \"\"\n      }\n    },\n    {\n      \"column\": \"Y1\",\n      \"properties\": {\n        \"dtype\": \"number\",\n        \"std\": 28284.179017823546,\n        \"min\": -28.9181795461607,\n        \"max\": 80000.0,\n        \"num_unique_values\": 8,\n        \"samples\": [\n          -0.002807468720646075,\n          -0.0015911126363517,\n          80000.0\n        ],\n        \"semantic_type\": \"\",\n        \"description\": \"\"\n      }\n    },\n    {\n      \"column\": \"Y2\",\n      \"properties\": {\n        \"dtype\": \"number\",\n        \"std\": 28282.56374174689,\n        \"min\": -0.8507991164008696,\n        \"max\": 80000.0,\n        \"num_unique_values\": 8,\n        \"samples\": [\n          -0.06117224098804954,\n          -0.31809111218054664,\n          80000.0\n        ],\n        \"semantic_type\": \"\",\n        \"description\": \"\"\n      }\n    }\n  ]\n}"
            }
          },
          "metadata": {},
          "execution_count": 8
        }
      ],
      "source": [
        "data.describe()"
      ]
    },
    {
      "cell_type": "code",
      "execution_count": null,
      "id": "8da76015-31f1-4977-9f62-f3cd2767899a",
      "metadata": {
        "id": "8da76015-31f1-4977-9f62-f3cd2767899a",
        "outputId": "aacb9117-5ada-4779-843f-485f6089b3cd"
      },
      "outputs": [
        {
          "data": {
            "text/plain": [
              "(80000, 17)"
            ]
          },
          "execution_count": 7,
          "metadata": {},
          "output_type": "execute_result"
        }
      ],
      "source": [
        "data.shape"
      ]
    },
    {
      "cell_type": "code",
      "execution_count": null,
      "id": "5edbbf1d-8f36-4b4d-92c2-f4d6b3ee2811",
      "metadata": {
        "id": "5edbbf1d-8f36-4b4d-92c2-f4d6b3ee2811",
        "outputId": "c3730963-9d63-4dd1-e75b-efbeae7bc27c"
      },
      "outputs": [
        {
          "data": {
            "text/plain": [
              "<matplotlib.collections.PathCollection at 0x29623062270>"
            ]
          },
          "execution_count": 8,
          "metadata": {},
          "output_type": "execute_result"
        },
        {
          "data": {
            "image/png": "[encoded data removed]",
            "text/plain": [
              "<Figure size 640x480 with 1 Axes>"
            ]
          },
          "metadata": {},
          "output_type": "display_data"
        }
      ],
      "source": [
        "plt.scatter(data['D'],data['Y2'])"
      ]
    },
    {
      "cell_type": "code",
      "execution_count": null,
      "id": "b025f89f-04cb-442f-b0b7-e6e37878bd95",
      "metadata": {
        "id": "b025f89f-04cb-442f-b0b7-e6e37878bd95",
        "outputId": "a59b7b85-c94c-483f-b521-b9a142588c16"
      },
      "outputs": [
        {
          "data": {
            "text/plain": [
              "<matplotlib.collections.PathCollection at 0x29623c25520>"
            ]
          },
          "execution_count": 9,
          "metadata": {},
          "output_type": "execute_result"
        },
        {
          "data": {
            "image/png": "[encoded data removed]",
            "text/plain": [
              "<Figure size 640x480 with 1 Axes>"
            ]
          },
          "metadata": {},
          "output_type": "display_data"
        }
      ],
      "source": [
        "plt.scatter(data['C'],data['Y1'])"
      ]
    },
    {
      "cell_type": "code",
      "execution_count": null,
      "id": "d84f37e3-d10c-41e1-855e-ce421980bfb3",
      "metadata": {
        "id": "d84f37e3-d10c-41e1-855e-ce421980bfb3",
        "outputId": "e27fe6b3-78ef-4464-d956-e44e80c0c803"
      },
      "outputs": [
        {
          "data": {
            "text/plain": [
              "<matplotlib.collections.PathCollection at 0x2961fd35d30>"
            ]
          },
          "execution_count": 10,
          "metadata": {},
          "output_type": "execute_result"
        },
        {
          "data": {
            "image/png": "[encoded data removed]",
            "text/plain": [
              "<Figure size 640x480 with 1 Axes>"
            ]
          },
          "metadata": {},
          "output_type": "display_data"
        }
      ],
      "source": [
        "plt.scatter(data['time'],data['C'])"
      ]
    },
    {
      "cell_type": "code",
      "execution_count": null,
      "id": "5a3aa684-0ceb-4285-9039-220a78ba3711",
      "metadata": {
        "id": "5a3aa684-0ceb-4285-9039-220a78ba3711",
        "outputId": "40ea2bc2-8b9c-4519-b5a5-69223c3a4659"
      },
      "outputs": [
        {
          "data": {
            "text/plain": [
              "<matplotlib.collections.PathCollection at 0x296233d2ba0>"
            ]
          },
          "execution_count": 11,
          "metadata": {},
          "output_type": "execute_result"
        },
        {
          "data": {
            "image/png": "[encoded data removed]",
            "text/plain": [
              "<Figure size 640x480 with 1 Axes>"
            ]
          },
          "metadata": {},
          "output_type": "display_data"
        }
      ],
      "source": [
        "plt.scatter(data['time'],data['Y1'])"
      ]
    },
    {
      "cell_type": "code",
      "execution_count": null,
      "id": "9f3b09d8-1d2a-468f-837f-bc8f754e566b",
      "metadata": {
        "id": "9f3b09d8-1d2a-468f-837f-bc8f754e566b",
        "outputId": "6f248bc7-f8ef-4e16-dc8e-a0d3c76dbb39"
      },
      "outputs": [
        {
          "data": {
            "text/plain": [
              "<matplotlib.collections.PathCollection at 0x296233aecf0>"
            ]
          },
          "execution_count": 12,
          "metadata": {},
          "output_type": "execute_result"
        },
        {
          "data": {
            "image/png": "[encoded data removed]",
            "text/plain": [
              "<Figure size 640x480 with 1 Axes>"
            ]
          },
          "metadata": {},
          "output_type": "display_data"
        }
      ],
      "source": [
        "plt.scatter(data['time'],data['A'])"
      ]
    },
    {
      "cell_type": "code",
      "execution_count": null,
      "id": "dfeeea2b-8839-4276-86cf-6b2a0ac1ea11",
      "metadata": {
        "id": "dfeeea2b-8839-4276-86cf-6b2a0ac1ea11",
        "outputId": "ce2bb4c6-14b5-4b7e-de3b-cebc0d7a669a"
      },
      "outputs": [
        {
          "data": {
            "text/plain": [
              "<matplotlib.collections.PathCollection at 0x296236fa960>"
            ]
          },
          "execution_count": 13,
          "metadata": {},
          "output_type": "execute_result"
        },
        {
          "data": {
            "image/png": "[encoded data removed]",
            "text/plain": [
              "<Figure size 640x480 with 1 Axes>"
            ]
          },
          "metadata": {},
          "output_type": "display_data"
        }
      ],
      "source": [
        "plt.scatter(data['time'],data['Y2'])"
      ]
    },
    {
      "cell_type": "code",
      "execution_count": null,
      "id": "0d89cadd-ce7c-4165-9ab7-a9e96e052234",
      "metadata": {
        "id": "0d89cadd-ce7c-4165-9ab7-a9e96e052234",
        "outputId": "b0c60dc9-3183-4320-c486-434b6e37b736"
      },
      "outputs": [
        {
          "data": {
            "text/plain": [
              "<matplotlib.collections.PathCollection at 0x29623a9e390>"
            ]
          },
          "execution_count": 14,
          "metadata": {},
          "output_type": "execute_result"
        },
        {
          "data": {
            "image/png": "[encoded data removed]",
            "text/plain": [
              "<Figure size 640x480 with 1 Axes>"
            ]
          },
          "metadata": {},
          "output_type": "display_data"
        }
      ],
      "source": [
        "plt.scatter(data['C'],data['Y1'])"
      ]
    },
    {
      "cell_type": "code",
      "execution_count": null,
      "id": "12d2fb95-0608-4260-a11c-efe5fc8367e4",
      "metadata": {
        "id": "12d2fb95-0608-4260-a11c-efe5fc8367e4"
      },
      "outputs": [],
      "source": []
    },
    {
      "cell_type": "code",
      "execution_count": null,
      "id": "c8e871cf-482e-4c43-a7c3-f8aeaa8246dc",
      "metadata": {
        "id": "c8e871cf-482e-4c43-a7c3-f8aeaa8246dc"
      },
      "outputs": [],
      "source": [
        "n = len(data)\n",
        "train_size = int(0.8*n)\n",
        "# test_size = 0.2*n\n",
        "train = data.iloc[:train_size]\n",
        "test = data.iloc[train_size:]"
      ]
    },
    {
      "cell_type": "code",
      "execution_count": null,
      "id": "95440e48-7de1-4d4c-bd8f-d9a3c2a26bd7",
      "metadata": {
        "colab": {
          "base_uri": "https://localhost:8080/",
          "height": 226
        },
        "id": "95440e48-7de1-4d4c-bd8f-d9a3c2a26bd7",
        "outputId": "f38fcc9e-fa08-4db7-fd85-0cb8edfa9cea"
      },
      "outputs": [
        {
          "output_type": "execute_result",
          "data": {
            "text/plain": [
              "        time         A         B         C         D         E         F  \\\n",
              "63995  64000 -0.212374 -0.113651 -1.367847 -0.445586 -0.538430 -0.097738   \n",
              "63996  64001  0.149915  0.291631  2.344763  0.902601  2.294606  0.056879   \n",
              "63997  64002  2.261944  1.018399  2.740438  3.517020  4.124670  1.036795   \n",
              "63998  64003  1.331800  1.605537 -1.074105  2.774428 -1.752077  0.963684   \n",
              "63999  64004  0.770156  2.258607 -2.124767  1.300282 -2.485613  0.452353   \n",
              "\n",
              "              G         H         I         J         K         L         M  \\\n",
              "63995 -0.462862 -2.408561 -0.138285 -1.228025 -0.053253 -0.207884 -0.742338   \n",
              "63996  3.518727  1.440498 -0.026626  1.879824 -0.048867  0.133909  3.440392   \n",
              "63997  7.286437  2.022381  0.628828  1.285498  1.263454  1.563184  2.630746   \n",
              "63998 -1.715165 -0.541154  0.912461 -1.533226  0.814717  1.533729 -0.910945   \n",
              "63999 -3.264275 -1.758661  0.609057 -2.591447  0.926035  1.039617 -2.346058   \n",
              "\n",
              "              N        Y1        Y2  \n",
              "63995 -0.355576 -0.716434 -0.329954  \n",
              "63996  1.025388  2.270958  0.475474  \n",
              "63997  1.662880  5.871564  3.498037  \n",
              "63998 -0.394980 -1.255336  2.405553  \n",
              "63999 -0.572627 -4.723271  2.602099  "
            ],
            "text/html": [
              "\n",
              "  <div id=\"df-8c3062c9-a320-43e1-a707-d5e65f475c58\" class=\"colab-df-container\">\n",
              "    <div>\n",
              "<style scoped>\n",
              "    .dataframe tbody tr th:only-of-type {\n",
              "        vertical-align: middle;\n",
              "    }\n",
              "\n",
              "    .dataframe tbody tr th {\n",
              "        vertical-align: top;\n",
              "    }\n",
              "\n",
              "    .dataframe thead th {\n",
              "        text-align: right;\n",
              "    }\n",
              "</style>\n",
              "<table border=\"1\" class=\"dataframe\">\n",
              "  <thead>\n",
              "    <tr style=\"text-align: right;\">\n",
              "      <th></th>\n",
              "      <th>time</th>\n",
              "      <th>A</th>\n",
              "      <th>B</th>\n",
              "      <th>C</th>\n",
              "      <th>D</th>\n",
              "      <th>E</th>\n",
              "      <th>F</th>\n",
              "      <th>G</th>\n",
              "      <th>H</th>\n",
              "      <th>I</th>\n",
              "      <th>J</th>\n",
              "      <th>K</th>\n",
              "      <th>L</th>\n",
              "      <th>M</th>\n",
              "      <th>N</th>\n",
              "      <th>Y1</th>\n",
              "      <th>Y2</th>\n",
              "    </tr>\n",
              "  </thead>\n",
              "  <tbody>\n",
              "    <tr>\n",
              "      <th>63995</th>\n",
              "      <td>64000</td>\n",
              "      <td>-0.212374</td>\n",
              "      <td>-0.113651</td>\n",
              "      <td>-1.367847</td>\n",
              "      <td>-0.445586</td>\n",
              "      <td>-0.538430</td>\n",
              "      <td>-0.097738</td>\n",
              "      <td>-0.462862</td>\n",
              "      <td>-2.408561</td>\n",
              "      <td>-0.138285</td>\n",
              "      <td>-1.228025</td>\n",
              "      <td>-0.053253</td>\n",
              "      <td>-0.207884</td>\n",
              "      <td>-0.742338</td>\n",
              "      <td>-0.355576</td>\n",
              "      <td>-0.716434</td>\n",
              "      <td>-0.329954</td>\n",
              "    </tr>\n",
              "    <tr>\n",
              "      <th>63996</th>\n",
              "      <td>64001</td>\n",
              "      <td>0.149915</td>\n",
              "      <td>0.291631</td>\n",
              "      <td>2.344763</td>\n",
              "      <td>0.902601</td>\n",
              "      <td>2.294606</td>\n",
              "      <td>0.056879</td>\n",
              "      <td>3.518727</td>\n",
              "      <td>1.440498</td>\n",
              "      <td>-0.026626</td>\n",
              "      <td>1.879824</td>\n",
              "      <td>-0.048867</td>\n",
              "      <td>0.133909</td>\n",
              "      <td>3.440392</td>\n",
              "      <td>1.025388</td>\n",
              "      <td>2.270958</td>\n",
              "      <td>0.475474</td>\n",
              "    </tr>\n",
              "    <tr>\n",
              "      <th>63997</th>\n",
              "      <td>64002</td>\n",
              "      <td>2.261944</td>\n",
              "      <td>1.018399</td>\n",
              "      <td>2.740438</td>\n",
              "      <td>3.517020</td>\n",
              "      <td>4.124670</td>\n",
              "      <td>1.036795</td>\n",
              "      <td>7.286437</td>\n",
              "      <td>2.022381</td>\n",
              "      <td>0.628828</td>\n",
              "      <td>1.285498</td>\n",
              "      <td>1.263454</td>\n",
              "      <td>1.563184</td>\n",
              "      <td>2.630746</td>\n",
              "      <td>1.662880</td>\n",
              "      <td>5.871564</td>\n",
              "      <td>3.498037</td>\n",
              "    </tr>\n",
              "    <tr>\n",
              "      <th>63998</th>\n",
              "      <td>64003</td>\n",
              "      <td>1.331800</td>\n",
              "      <td>1.605537</td>\n",
              "      <td>-1.074105</td>\n",
              "      <td>2.774428</td>\n",
              "      <td>-1.752077</td>\n",
              "      <td>0.963684</td>\n",
              "      <td>-1.715165</td>\n",
              "      <td>-0.541154</td>\n",
              "      <td>0.912461</td>\n",
              "      <td>-1.533226</td>\n",
              "      <td>0.814717</td>\n",
              "      <td>1.533729</td>\n",
              "      <td>-0.910945</td>\n",
              "      <td>-0.394980</td>\n",
              "      <td>-1.255336</td>\n",
              "      <td>2.405553</td>\n",
              "    </tr>\n",
              "    <tr>\n",
              "      <th>63999</th>\n",
              "      <td>64004</td>\n",
              "      <td>0.770156</td>\n",
              "      <td>2.258607</td>\n",
              "      <td>-2.124767</td>\n",
              "      <td>1.300282</td>\n",
              "      <td>-2.485613</td>\n",
              "      <td>0.452353</td>\n",
              "      <td>-3.264275</td>\n",
              "      <td>-1.758661</td>\n",
              "      <td>0.609057</td>\n",
              "      <td>-2.591447</td>\n",
              "      <td>0.926035</td>\n",
              "      <td>1.039617</td>\n",
              "      <td>-2.346058</td>\n",
              "      <td>-0.572627</td>\n",
              "      <td>-4.723271</td>\n",
              "      <td>2.602099</td>\n",
              "    </tr>\n",
              "  </tbody>\n",
              "</table>\n",
              "</div>\n",
              "    <div class=\"colab-df-buttons\">\n",
              "\n",
              "  <div class=\"colab-df-container\">\n",
              "    <button class=\"colab-df-convert\" onclick=\"convertToInteractive('df-8c3062c9-a320-43e1-a707-d5e65f475c58')\"\n",
              "            title=\"Convert this dataframe to an interactive table.\"\n",
              "            style=\"display:none;\">\n",
              "\n",
              "  <svg xmlns=\"http://www.w3.org/2000/svg\" height=\"24px\" viewBox=\"0 -960 960 960\">\n",
              "    <path d=\"M120-120v-720h720v720H120Zm60-500h600v-160H180v160Zm220 220h160v-160H400v160Zm0 220h160v-160H400v160ZM180-400h160v-160H180v160Zm440 0h160v-160H620v160ZM180-180h160v-160H180v160Zm440 0h160v-160H620v160Z\"/>\n",
              "  </svg>\n",
              "    </button>\n",
              "\n",
              "  <style>\n",
              "    .colab-df-container {\n",
              "      display:flex;\n",
              "      gap: 12px;\n",
              "    }\n",
              "\n",
              "    .colab-df-convert {\n",
              "      background-color: #E8F0FE;\n",
              "      border: none;\n",
              "      border-radius: 50%;\n",
              "      cursor: pointer;\n",
              "      display: none;\n",
              "      fill: #1967D2;\n",
              "      height: 32px;\n",
              "      padding: 0 0 0 0;\n",
              "      width: 32px;\n",
              "    }\n",
              "\n",
              "    .colab-df-convert:hover {\n",
              "      background-color: #E2EBFA;\n",
              "      box-shadow: 0px 1px 2px rgba(60, 64, 67, 0.3), 0px 1px 3px 1px rgba(60, 64, 67, 0.15);\n",
              "      fill: #174EA6;\n",
              "    }\n",
              "\n",
              "    .colab-df-buttons div {\n",
              "      margin-bottom: 4px;\n",
              "    }\n",
              "\n",
              "    [theme=dark] .colab-df-convert {\n",
              "      background-color: #3B4455;\n",
              "      fill: #D2E3FC;\n",
              "    }\n",
              "\n",
              "    [theme=dark] .colab-df-convert:hover {\n",
              "      background-color: #434B5C;\n",
              "      box-shadow: 0px 1px 3px 1px rgba(0, 0, 0, 0.15);\n",
              "      filter: drop-shadow(0px 1px 2px rgba(0, 0, 0, 0.3));\n",
              "      fill: #FFFFFF;\n",
              "    }\n",
              "  </style>\n",
              "\n",
              "    <script>\n",
              "      const buttonEl =\n",
              "        document.querySelector('#df-8c3062c9-a320-43e1-a707-d5e65f475c58 button.colab-df-convert');\n",
              "      buttonEl.style.display =\n",
              "        google.colab.kernel.accessAllowed ? 'block' : 'none';\n",
              "\n",
              "      async function convertToInteractive(key) {\n",
              "        const element = document.querySelector('#df-8c3062c9-a320-43e1-a707-d5e65f475c58');\n",
              "        const dataTable =\n",
              "          await google.colab.kernel.invokeFunction('convertToInteractive',\n",
              "                                                    [key], {});\n",
              "        if (!dataTable) return;\n",
              "\n",
              "        const docLinkHtml = 'Like what you see? Visit the ' +\n",
              "          '<a target=\"_blank\" href=https://colab.research.google.com/notebooks/data_table.ipynb>data table notebook</a>'\n",
              "          + ' to learn more about interactive tables.';\n",
              "        element.innerHTML = '';\n",
              "        dataTable['output_type'] = 'display_data';\n",
              "        await google.colab.output.renderOutput(dataTable, element);\n",
              "        const docLink = document.createElement('div');\n",
              "        docLink.innerHTML = docLinkHtml;\n",
              "        element.appendChild(docLink);\n",
              "      }\n",
              "    </script>\n",
              "  </div>\n",
              "\n",
              "\n",
              "    <div id=\"df-41a8bfea-fe72-4b83-8570-56fdd50855f1\">\n",
              "      <button class=\"colab-df-quickchart\" onclick=\"quickchart('df-41a8bfea-fe72-4b83-8570-56fdd50855f1')\"\n",
              "                title=\"Suggest charts\"\n",
              "                style=\"display:none;\">\n",
              "\n",
              "<svg xmlns=\"http://www.w3.org/2000/svg\" height=\"24px\"viewBox=\"0 0 24 24\"\n",
              "     width=\"24px\">\n",
              "    <g>\n",
              "        <path d=\"M19 3H5c-1.1 0-2 .9-2 2v14c0 1.1.9 2 2 2h14c1.1 0 2-.9 2-2V5c0-1.1-.9-2-2-2zM9 17H7v-7h2v7zm4 0h-2V7h2v10zm4 0h-2v-4h2v4z\"/>\n",
              "    </g>\n",
              "</svg>\n",
              "      </button>\n",
              "\n",
              "<style>\n",
              "  .colab-df-quickchart {\n",
              "      --bg-color: #E8F0FE;\n",
              "      --fill-color: #1967D2;\n",
              "      --hover-bg-color: #E2EBFA;\n",
              "      --hover-fill-color: #174EA6;\n",
              "      --disabled-fill-color: #AAA;\n",
              "      --disabled-bg-color: #DDD;\n",
              "  }\n",
              "\n",
              "  [theme=dark] .colab-df-quickchart {\n",
              "      --bg-color: #3B4455;\n",
              "      --fill-color: #D2E3FC;\n",
              "      --hover-bg-color: #434B5C;\n",
              "      --hover-fill-color: #FFFFFF;\n",
              "      --disabled-bg-color: #3B4455;\n",
              "      --disabled-fill-color: #666;\n",
              "  }\n",
              "\n",
              "  .colab-df-quickchart {\n",
              "    background-color: var(--bg-color);\n",
              "    border: none;\n",
              "    border-radius: 50%;\n",
              "    cursor: pointer;\n",
              "    display: none;\n",
              "    fill: var(--fill-color);\n",
              "    height: 32px;\n",
              "    padding: 0;\n",
              "    width: 32px;\n",
              "  }\n",
              "\n",
              "  .colab-df-quickchart:hover {\n",
              "    background-color: var(--hover-bg-color);\n",
              "    box-shadow: 0 1px 2px rgba(60, 64, 67, 0.3), 0 1px 3px 1px rgba(60, 64, 67, 0.15);\n",
              "    fill: var(--button-hover-fill-color);\n",
              "  }\n",
              "\n",
              "  .colab-df-quickchart-complete:disabled,\n",
              "  .colab-df-quickchart-complete:disabled:hover {\n",
              "    background-color: var(--disabled-bg-color);\n",
              "    fill: var(--disabled-fill-color);\n",
              "    box-shadow: none;\n",
              "  }\n",
              "\n",
              "  .colab-df-spinner {\n",
              "    border: 2px solid var(--fill-color);\n",
              "    border-color: transparent;\n",
              "    border-bottom-color: var(--fill-color);\n",
              "    animation:\n",
              "      spin 1s steps(1) infinite;\n",
              "  }\n",
              "\n",
              "  @keyframes spin {\n",
              "    0% {\n",
              "      border-color: transparent;\n",
              "      border-bottom-color: var(--fill-color);\n",
              "      border-left-color: var(--fill-color);\n",
              "    }\n",
              "    20% {\n",
              "      border-color: transparent;\n",
              "      border-left-color: var(--fill-color);\n",
              "      border-top-color: var(--fill-color);\n",
              "    }\n",
              "    30% {\n",
              "      border-color: transparent;\n",
              "      border-left-color: var(--fill-color);\n",
              "      border-top-color: var(--fill-color);\n",
              "      border-right-color: var(--fill-color);\n",
              "    }\n",
              "    40% {\n",
              "      border-color: transparent;\n",
              "      border-right-color: var(--fill-color);\n",
              "      border-top-color: var(--fill-color);\n",
              "    }\n",
              "    60% {\n",
              "      border-color: transparent;\n",
              "      border-right-color: var(--fill-color);\n",
              "    }\n",
              "    80% {\n",
              "      border-color: transparent;\n",
              "      border-right-color: var(--fill-color);\n",
              "      border-bottom-color: var(--fill-color);\n",
              "    }\n",
              "    90% {\n",
              "      border-color: transparent;\n",
              "      border-bottom-color: var(--fill-color);\n",
              "    }\n",
              "  }\n",
              "</style>\n",
              "\n",
              "      <script>\n",
              "        async function quickchart(key) {\n",
              "          const quickchartButtonEl =\n",
              "            document.querySelector('#' + key + ' button');\n",
              "          quickchartButtonEl.disabled = true;  // To prevent multiple clicks.\n",
              "          quickchartButtonEl.classList.add('colab-df-spinner');\n",
              "          try {\n",
              "            const charts = await google.colab.kernel.invokeFunction(\n",
              "                'suggestCharts', [key], {});\n",
              "          } catch (error) {\n",
              "            console.error('Error during call to suggestCharts:', error);\n",
              "          }\n",
              "          quickchartButtonEl.classList.remove('colab-df-spinner');\n",
              "          quickchartButtonEl.classList.add('colab-df-quickchart-complete');\n",
              "        }\n",
              "        (() => {\n",
              "          let quickchartButtonEl =\n",
              "            document.querySelector('#df-41a8bfea-fe72-4b83-8570-56fdd50855f1 button');\n",
              "          quickchartButtonEl.style.display =\n",
              "            google.colab.kernel.accessAllowed ? 'block' : 'none';\n",
              "        })();\n",
              "      </script>\n",
              "    </div>\n",
              "\n",
              "    </div>\n",
              "  </div>\n"
            ],
            "application/vnd.google.colaboratory.intrinsic+json": {
              "type": "dataframe",
              "summary": "{\n  \"name\": \"train\",\n  \"rows\": 5,\n  \"fields\": [\n    {\n      \"column\": \"time\",\n      \"properties\": {\n        \"dtype\": \"number\",\n        \"std\": 1,\n        \"min\": 64000,\n        \"max\": 64004,\n        \"num_unique_values\": 5,\n        \"samples\": [\n          64001,\n          64004,\n          64002\n        ],\n        \"semantic_type\": \"\",\n        \"description\": \"\"\n      }\n    },\n    {\n      \"column\": \"A\",\n      \"properties\": {\n        \"dtype\": \"number\",\n        \"std\": 0.9811118957360541,\n        \"min\": -0.2123744203167907,\n        \"max\": 2.261944240873179,\n        \"num_unique_values\": 5,\n        \"samples\": [\n          0.1499148303453567,\n          0.7701560413158037,\n          2.261944240873179\n        ],\n        \"semantic_type\": \"\",\n        \"description\": \"\"\n      }\n    },\n    {\n      \"column\": \"B\",\n      \"properties\": {\n        \"dtype\": \"number\",\n        \"std\": 0.9607779284760517,\n        \"min\": -0.1136513917364232,\n        \"max\": 2.258606512180863,\n        \"num_unique_values\": 5,\n        \"samples\": [\n          0.2916312101320379,\n          2.258606512180863,\n          1.018399215147603\n        ],\n        \"semantic_type\": \"\",\n        \"description\": \"\"\n      }\n    },\n    {\n      \"column\": \"C\",\n      \"properties\": {\n        \"dtype\": \"number\",\n        \"std\": 2.2634868184361343,\n        \"min\": -2.124767058969893,\n        \"max\": 2.7404378769668387,\n        \"num_unique_values\": 5,\n        \"samples\": [\n          2.344763141853732,\n          -2.124767058969893,\n          2.7404378769668387\n        ],\n        \"semantic_type\": \"\",\n        \"description\": \"\"\n      }\n    },\n    {\n      \"column\": \"D\",\n      \"properties\": {\n        \"dtype\": \"number\",\n        \"std\": 1.5663964984522845,\n        \"min\": -0.4455864677919178,\n        \"max\": 3.517019886955409,\n        \"num_unique_values\": 5,\n        \"samples\": [\n          0.9026011126397148,\n          1.3002815524111162,\n          3.517019886955409\n        ],\n        \"semantic_type\": \"\",\n        \"description\": \"\"\n      }\n    },\n    {\n      \"column\": \"E\",\n      \"properties\": {\n        \"dtype\": \"number\",\n        \"std\": 2.7962511486018653,\n        \"min\": -2.48561275498407,\n        \"max\": 4.12467001921838,\n        \"num_unique_values\": 5,\n        \"samples\": [\n          2.2946064236063823,\n          -2.48561275498407,\n          4.12467001921838\n        ],\n        \"semantic_type\": \"\",\n        \"description\": \"\"\n      }\n    },\n    {\n      \"column\": \"F\",\n      \"properties\": {\n        \"dtype\": \"number\",\n        \"std\": 0.5141786947689978,\n        \"min\": -0.0977381083604141,\n        \"max\": 1.0367948720771187,\n        \"num_unique_values\": 5,\n        \"samples\": [\n          0.0568787680411937,\n          0.4523525097614618,\n          1.0367948720771187\n        ],\n        \"semantic_type\": \"\",\n        \"description\": \"\"\n      }\n    },\n    {\n      \"column\": \"G\",\n      \"properties\": {\n        \"dtype\": \"number\",\n        \"std\": 4.2875713217575395,\n        \"min\": -3.2642745366205435,\n        \"max\": 7.286437350018813,\n        \"num_unique_values\": 5,\n        \"samples\": [\n          3.5187273988521994,\n          -3.2642745366205435,\n          7.286437350018813\n        ],\n        \"semantic_type\": \"\",\n        \"description\": \"\"\n      }\n    },\n    {\n      \"column\": \"H\",\n      \"properties\": {\n        \"dtype\": \"number\",\n        \"std\": 1.939182108007861,\n        \"min\": -2.408560924362128,\n        \"max\": 2.0223814337221517,\n        \"num_unique_values\": 5,\n        \"samples\": [\n          1.4404976774205638,\n          -1.7586607367933105,\n          2.0223814337221517\n        ],\n        \"semantic_type\": \"\",\n        \"description\": \"\"\n      }\n    },\n    {\n      \"column\": \"I\",\n      \"properties\": {\n        \"dtype\": \"number\",\n        \"std\": 0.4556319828955956,\n        \"min\": -0.1382854686432213,\n        \"max\": 0.9124614072288224,\n        \"num_unique_values\": 5,\n        \"samples\": [\n          -0.0266256845217106,\n          0.6090566159231837,\n          0.62882823164141\n        ],\n        \"semantic_type\": \"\",\n        \"description\": \"\"\n      }\n    },\n    {\n      \"column\": \"J\",\n      \"properties\": {\n        \"dtype\": \"number\",\n        \"std\": 1.9237817474269217,\n        \"min\": -2.591446997934166,\n        \"max\": 1.879823626857428,\n        \"num_unique_values\": 5,\n        \"samples\": [\n          1.879823626857428,\n          -2.591446997934166,\n          1.2854981825186655\n        ],\n        \"semantic_type\": \"\",\n        \"description\": \"\"\n      }\n    },\n    {\n      \"column\": \"K\",\n      \"properties\": {\n        \"dtype\": \"number\",\n        \"std\": 0.5996716775904227,\n        \"min\": -0.0532533385999171,\n        \"max\": 1.2634539133371945,\n        \"num_unique_values\": 5,\n        \"samples\": [\n          -0.0488674424646103,\n          0.9260345460145324,\n          1.2634539133371945\n        ],\n        \"semantic_type\": \"\",\n        \"description\": \"\"\n      }\n    },\n    {\n      \"column\": \"L\",\n      \"properties\": {\n        \"dtype\": \"number\",\n        \"std\": 0.8119341609284999,\n        \"min\": -0.2078839825495076,\n        \"max\": 1.5631839978856112,\n        \"num_unique_values\": 5,\n        \"samples\": [\n          0.1339094909053678,\n          1.0396174114582233,\n          1.5631839978856112\n        ],\n        \"semantic_type\": \"\",\n        \"description\": \"\"\n      }\n    },\n    {\n      \"column\": \"M\",\n      \"properties\": {\n        \"dtype\": \"number\",\n        \"std\": 2.4891529352851838,\n        \"min\": -2.3460582350535013,\n        \"max\": 3.440391977469861,\n        \"num_unique_values\": 5,\n        \"samples\": [\n          3.440391977469861,\n          -2.3460582350535013,\n          2.630746130229899\n        ],\n        \"semantic_type\": \"\",\n        \"description\": \"\"\n      }\n    },\n    {\n      \"column\": \"N\",\n      \"properties\": {\n        \"dtype\": \"number\",\n        \"std\": 1.0067575328892893,\n        \"min\": -0.5726268126497476,\n        \"max\": 1.6628800594693125,\n        \"num_unique_values\": 5,\n        \"samples\": [\n          1.025387597350718,\n          -0.5726268126497476,\n          1.6628800594693125\n        ],\n        \"semantic_type\": \"\",\n        \"description\": \"\"\n      }\n    },\n    {\n      \"column\": \"Y1\",\n      \"properties\": {\n        \"dtype\": \"number\",\n        \"std\": 3.987853846071849,\n        \"min\": -4.723271024578049,\n        \"max\": 5.871564386105319,\n        \"num_unique_values\": 5,\n        \"samples\": [\n          2.2709579008938507,\n          -4.723271024578049,\n          5.871564386105319\n        ],\n        \"semantic_type\": \"\",\n        \"description\": \"\"\n      }\n    },\n    {\n      \"column\": \"Y2\",\n      \"properties\": {\n        \"dtype\": \"number\",\n        \"std\": 1.593747856974102,\n        \"min\": -0.3299544987474634,\n        \"max\": 3.4980367722582546,\n        \"num_unique_values\": 5,\n        \"samples\": [\n          0.4754740048865387,\n          2.602098541074402,\n          3.4980367722582546\n        ],\n        \"semantic_type\": \"\",\n        \"description\": \"\"\n      }\n    }\n  ]\n}"
            }
          },
          "metadata": {},
          "execution_count": 10
        }
      ],
      "source": [
        "train.tail()"
      ]
    },
    {
      "cell_type": "code",
      "execution_count": null,
      "id": "aebfecff-55f0-484e-bd0f-889cbd2d5e7d",
      "metadata": {
        "colab": {
          "base_uri": "https://localhost:8080/"
        },
        "id": "aebfecff-55f0-484e-bd0f-889cbd2d5e7d",
        "outputId": "5bd63a56-f163-4862-ae85-c27bf65810f7"
      },
      "outputs": [
        {
          "output_type": "execute_result",
          "data": {
            "text/plain": [
              "((64000, 17), (16000, 17))"
            ]
          },
          "metadata": {},
          "execution_count": 11
        }
      ],
      "source": [
        "train.shape,test.shape"
      ]
    },
    {
      "cell_type": "markdown",
      "id": "4702e8af-4236-46b2-9c17-4053242bf410",
      "metadata": {
        "id": "4702e8af-4236-46b2-9c17-4053242bf410"
      },
      "source": [
        "### Time Series: C,E,G,H,J,M,N\n",
        "### Non Time Series: A,B,D,F,I,K,L"
      ]
    },
    {
      "cell_type": "code",
      "execution_count": null,
      "id": "c1444b6d-3cd9-4af7-af47-741f0220a49c",
      "metadata": {
        "id": "c1444b6d-3cd9-4af7-af47-741f0220a49c"
      },
      "outputs": [],
      "source": [
        "time_feature = train[['C','E','G','H','J','M','N']]\n",
        "time_target = train[['Y1']]"
      ]
    },
    {
      "cell_type": "code",
      "execution_count": null,
      "id": "8289c357-07ff-42e7-a7ce-bfa4939772a6",
      "metadata": {
        "id": "8289c357-07ff-42e7-a7ce-bfa4939772a6"
      },
      "outputs": [],
      "source": [
        "non_time_feature = train[['A','B','D','F','I','K','L']]\n",
        "non_time_target = train[['Y2']]"
      ]
    },
    {
      "cell_type": "code",
      "execution_count": null,
      "id": "2996b308-6f92-4503-81af-ba128977e4b0",
      "metadata": {
        "id": "2996b308-6f92-4503-81af-ba128977e4b0"
      },
      "outputs": [],
      "source": [
        "time_feature_val = test[['C','E','G','H','J','M','N']]\n",
        "actual_vals = test[['Y1']]"
      ]
    },
    {
      "cell_type": "code",
      "source": [
        "original_test_features=data_t[['C','E','G','H','J','M','N']]"
      ],
      "metadata": {
        "id": "3LA2K5j-vhnL"
      },
      "id": "3LA2K5j-vhnL",
      "execution_count": null,
      "outputs": []
    },
    {
      "cell_type": "code",
      "source": [
        "y1_original_test_predictions=m.predict(original_test_features)"
      ],
      "metadata": {
        "id": "J58qythcvS9z"
      },
      "id": "J58qythcvS9z",
      "execution_count": null,
      "outputs": []
    },
    {
      "cell_type": "code",
      "source": [
        "#save\n",
        "predictions_df = pd.DataFrame(y1_original_test_predictions, columns=['Y1'])\n",
        "predictions_df.to_csv('y1_predictions.csv', index=False)"
      ],
      "metadata": {
        "id": "k30mi7duwWn8"
      },
      "id": "k30mi7duwWn8",
      "execution_count": null,
      "outputs": []
    },
    {
      "cell_type": "code",
      "execution_count": null,
      "id": "b2978e74-c937-4ecf-bef2-2fa497968d5d",
      "metadata": {
        "id": "b2978e74-c937-4ecf-bef2-2fa497968d5d"
      },
      "outputs": [],
      "source": [
        "from sklearn.linear_model import LinearRegression"
      ]
    },
    {
      "cell_type": "code",
      "execution_count": null,
      "id": "aff85a67-4bf3-4335-9cf8-6802dcce446d",
      "metadata": {
        "id": "aff85a67-4bf3-4335-9cf8-6802dcce446d"
      },
      "outputs": [],
      "source": [
        "model = LinearRegression()"
      ]
    },
    {
      "cell_type": "code",
      "execution_count": null,
      "id": "0e5a271d-1429-46ec-b6f7-69564160cef7",
      "metadata": {
        "id": "0e5a271d-1429-46ec-b6f7-69564160cef7"
      },
      "outputs": [],
      "source": [
        "m = model.fit(time_feature,time_target)"
      ]
    },
    {
      "cell_type": "code",
      "execution_count": null,
      "id": "4981cfc6-2e2e-466f-bf0a-d7c0e99c0b05",
      "metadata": {
        "id": "4981cfc6-2e2e-466f-bf0a-d7c0e99c0b05"
      },
      "outputs": [],
      "source": [
        "y_preds = m.predict(time_feature_val)"
      ]
    },
    {
      "cell_type": "code",
      "execution_count": null,
      "id": "b657b194-6da9-4d99-b00d-39001fd8598b",
      "metadata": {
        "id": "b657b194-6da9-4d99-b00d-39001fd8598b"
      },
      "outputs": [],
      "source": [
        "from sklearn.metrics import r2_score"
      ]
    },
    {
      "cell_type": "code",
      "execution_count": null,
      "id": "4b2cff4b-0ea9-4ae5-aa5c-616cd93c5daf",
      "metadata": {
        "colab": {
          "base_uri": "https://localhost:8080/"
        },
        "id": "4b2cff4b-0ea9-4ae5-aa5c-616cd93c5daf",
        "outputId": "ac9adbe5-1b8b-4ce5-9e44-f3cee1e93449"
      },
      "outputs": [
        {
          "output_type": "execute_result",
          "data": {
            "text/plain": [
              "0.701998155570845"
            ]
          },
          "metadata": {},
          "execution_count": 54
        }
      ],
      "source": [
        "r2_score(actual_vals,y_preds)"
      ]
    },
    {
      "cell_type": "code",
      "execution_count": null,
      "id": "9df6456d-e8aa-46cc-844d-fd636cb00c39",
      "metadata": {
        "id": "9df6456d-e8aa-46cc-844d-fd636cb00c39"
      },
      "outputs": [],
      "source": [
        "from sklearn.linear_model import ElasticNet,Lasso,Ridge,LassoCV"
      ]
    },
    {
      "cell_type": "code",
      "execution_count": null,
      "id": "31243409-0148-4a84-85b5-1b470daf6967",
      "metadata": {
        "id": "31243409-0148-4a84-85b5-1b470daf6967"
      },
      "outputs": [],
      "source": [
        "model2 = LassoCV()"
      ]
    },
    {
      "cell_type": "code",
      "execution_count": null,
      "id": "bf82892f-f884-4739-819e-f7dd6fdb5c11",
      "metadata": {
        "colab": {
          "base_uri": "https://localhost:8080/"
        },
        "id": "bf82892f-f884-4739-819e-f7dd6fdb5c11",
        "outputId": "37a71f3a-13b5-469e-fbda-85bb7ca7e0df"
      },
      "outputs": [
        {
          "output_type": "stream",
          "name": "stderr",
          "text": [
            "/usr/local/lib/python3.12/dist-packages/sklearn/linear_model/_coordinate_descent.py:1664: DataConversionWarning: A column-vector y was passed when a 1d array was expected. Please change the shape of y to (n_samples, ), for example using ravel().\n",
            "  y = column_or_1d(y, warn=True)\n"
          ]
        }
      ],
      "source": [
        "m2 = model2.fit(time_feature,time_target)"
      ]
    },
    {
      "cell_type": "code",
      "execution_count": null,
      "id": "7407c357-0125-4da7-b716-478089b1dce4",
      "metadata": {
        "id": "7407c357-0125-4da7-b716-478089b1dce4"
      },
      "outputs": [],
      "source": [
        "y_preds2 = m2.predict(time_feature_val)"
      ]
    },
    {
      "cell_type": "code",
      "execution_count": null,
      "id": "997963f0-2832-48a3-b2ce-78af3877f20a",
      "metadata": {
        "scrolled": true,
        "colab": {
          "base_uri": "https://localhost:8080/"
        },
        "id": "997963f0-2832-48a3-b2ce-78af3877f20a",
        "outputId": "6681a59d-710f-4548-9735-2e739f6750e7"
      },
      "outputs": [
        {
          "output_type": "execute_result",
          "data": {
            "text/plain": [
              "0.701839780496561"
            ]
          },
          "metadata": {},
          "execution_count": 25
        }
      ],
      "source": [
        "r2_score(actual_vals,y_preds2)"
      ]
    },
    {
      "cell_type": "code",
      "execution_count": null,
      "id": "2f72f921-3b9d-416a-b782-d6010fd8c37a",
      "metadata": {
        "id": "2f72f921-3b9d-416a-b782-d6010fd8c37a"
      },
      "outputs": [],
      "source": [
        "model3 = Ridge()\n",
        "m3 = model3.fit(time_feature,time_target)\n",
        "y_preds3 = m3.predict(time_feature_val)"
      ]
    },
    {
      "cell_type": "code",
      "execution_count": null,
      "id": "4a4def20-c64d-47d9-a6d8-aae71729f2b0",
      "metadata": {
        "colab": {
          "base_uri": "https://localhost:8080/"
        },
        "id": "4a4def20-c64d-47d9-a6d8-aae71729f2b0",
        "outputId": "6173342b-c13f-4bdd-f8e2-394497ea0bf7"
      },
      "outputs": [
        {
          "output_type": "execute_result",
          "data": {
            "text/plain": [
              "0.7019993182657958"
            ]
          },
          "metadata": {},
          "execution_count": 27
        }
      ],
      "source": [
        "r2_score(actual_vals,y_preds3)"
      ]
    },
    {
      "cell_type": "code",
      "execution_count": null,
      "id": "2f435cb4-1b63-4b4f-90e9-7447758766d5",
      "metadata": {
        "id": "2f435cb4-1b63-4b4f-90e9-7447758766d5"
      },
      "outputs": [],
      "source": [
        "from sklearn.ensemble import GradientBoostingRegressor\n",
        "from sklearn.svm import LinearSVR\n",
        "from sklearn.tree import DecisionTreeRegressor"
      ]
    },
    {
      "cell_type": "code",
      "execution_count": null,
      "id": "c74cef7e-6ea6-43b6-92df-bc33d6f243c6",
      "metadata": {
        "id": "c74cef7e-6ea6-43b6-92df-bc33d6f243c6"
      },
      "outputs": [],
      "source": [
        "model4 = LinearSVR()"
      ]
    },
    {
      "cell_type": "code",
      "execution_count": null,
      "id": "207d1a05-04be-4a16-9201-39345b554c55",
      "metadata": {
        "colab": {
          "base_uri": "https://localhost:8080/"
        },
        "id": "207d1a05-04be-4a16-9201-39345b554c55",
        "outputId": "6c0fb2f8-7452-4ce3-e586-5f5b185915fa"
      },
      "outputs": [
        {
          "output_type": "stream",
          "name": "stderr",
          "text": [
            "/usr/local/lib/python3.12/dist-packages/sklearn/utils/validation.py:1408: DataConversionWarning: A column-vector y was passed when a 1d array was expected. Please change the shape of y to (n_samples, ), for example using ravel().\n",
            "  y = column_or_1d(y, warn=True)\n",
            "/usr/local/lib/python3.12/dist-packages/sklearn/svm/_base.py:1249: ConvergenceWarning: Liblinear failed to converge, increase the number of iterations.\n",
            "  warnings.warn(\n"
          ]
        }
      ],
      "source": [
        "m = model4.fit(time_feature,time_target)"
      ]
    },
    {
      "cell_type": "code",
      "execution_count": null,
      "id": "ace7cc19-a445-400f-89b1-b083a8157bcb",
      "metadata": {
        "id": "ace7cc19-a445-400f-89b1-b083a8157bcb"
      },
      "outputs": [],
      "source": [
        "ypred4 = m.predict(time_feature_val)"
      ]
    },
    {
      "cell_type": "code",
      "execution_count": null,
      "id": "e0db812e-8f07-4d11-8c31-f7907046dbb0",
      "metadata": {
        "colab": {
          "base_uri": "https://localhost:8080/"
        },
        "id": "e0db812e-8f07-4d11-8c31-f7907046dbb0",
        "outputId": "53f6fcbb-babf-4f88-bd6d-1d50a74a42af"
      },
      "outputs": [
        {
          "output_type": "execute_result",
          "data": {
            "text/plain": [
              "0.6954329443481201"
            ]
          },
          "metadata": {},
          "execution_count": 32
        }
      ],
      "source": [
        "r2_score(actual_vals,ypred4)"
      ]
    },
    {
      "cell_type": "code",
      "execution_count": null,
      "id": "0380fd17-8731-4ed8-a0b0-18c69c2807c9",
      "metadata": {
        "id": "0380fd17-8731-4ed8-a0b0-18c69c2807c9"
      },
      "outputs": [],
      "source": [
        "model5 = DecisionTreeRegressor()"
      ]
    },
    {
      "cell_type": "code",
      "execution_count": null,
      "id": "b6a15989-c1e3-4d23-87a9-e243ba3ace2c",
      "metadata": {
        "id": "b6a15989-c1e3-4d23-87a9-e243ba3ace2c"
      },
      "outputs": [],
      "source": [
        "m5 = model5.fit(time_feature,time_target,)"
      ]
    },
    {
      "cell_type": "code",
      "execution_count": null,
      "id": "970501a8-4841-4236-8c37-78b49acc918a",
      "metadata": {
        "id": "970501a8-4841-4236-8c37-78b49acc918a"
      },
      "outputs": [],
      "source": [
        "ypred5 = m5.predict(time_feature_val)"
      ]
    },
    {
      "cell_type": "code",
      "execution_count": null,
      "id": "31439f62-33a0-492a-ab1c-e44e7709131d",
      "metadata": {
        "colab": {
          "base_uri": "https://localhost:8080/"
        },
        "id": "31439f62-33a0-492a-ab1c-e44e7709131d",
        "outputId": "6f0bca1e-3f21-466d-84e7-0a0675dcbaad"
      },
      "outputs": [
        {
          "output_type": "execute_result",
          "data": {
            "text/plain": [
              "0.3041996279135155"
            ]
          },
          "metadata": {},
          "execution_count": 36
        }
      ],
      "source": [
        "r2_score(actual_vals,ypred5)"
      ]
    },
    {
      "cell_type": "code",
      "execution_count": null,
      "id": "9d732a00-95ae-4c48-9e9b-80644b1b4c7b",
      "metadata": {
        "id": "9d732a00-95ae-4c48-9e9b-80644b1b4c7b"
      },
      "outputs": [],
      "source": [
        "import statsmodels.api as sm"
      ]
    },
    {
      "cell_type": "code",
      "execution_count": null,
      "id": "83af51a6-b1f2-4c74-9389-005cf65e10fb",
      "metadata": {
        "id": "83af51a6-b1f2-4c74-9389-005cf65e10fb"
      },
      "outputs": [],
      "source": [
        "model_ = sm.GLM(time_target,time_feature,family=sm.families.Gaussian())\n",
        "result = model_.fit()"
      ]
    },
    {
      "cell_type": "code",
      "execution_count": null,
      "id": "659025e7-c410-41e4-9fd4-4b5a4df9fa35",
      "metadata": {
        "colab": {
          "base_uri": "https://localhost:8080/"
        },
        "id": "659025e7-c410-41e4-9fd4-4b5a4df9fa35",
        "outputId": "c438dd65-f8ad-4789-da15-b735fe14d431"
      },
      "outputs": [
        {
          "output_type": "execute_result",
          "data": {
            "text/plain": [
              "0.7019947295471769"
            ]
          },
          "metadata": {},
          "execution_count": 39
        }
      ],
      "source": [
        "y_pred_ = result.predict(time_feature_val)\n",
        "r2_score(actual_vals,y_pred_)"
      ]
    },
    {
      "cell_type": "code",
      "execution_count": null,
      "id": "f2eadf82-8d17-4c60-a368-4afca4117c14",
      "metadata": {
        "id": "f2eadf82-8d17-4c60-a368-4afca4117c14"
      },
      "outputs": [],
      "source": [
        "from sklearn.linear_model import BayesianRidge"
      ]
    },
    {
      "cell_type": "code",
      "execution_count": null,
      "id": "7af703ef-d0a7-4175-8192-c8b60118b149",
      "metadata": {
        "id": "7af703ef-d0a7-4175-8192-c8b60118b149"
      },
      "outputs": [],
      "source": [
        "mudel = BayesianRidge()\n"
      ]
    },
    {
      "cell_type": "code",
      "execution_count": null,
      "id": "2d64ae51-0004-43f2-9b0d-1529bc67d591",
      "metadata": {
        "colab": {
          "base_uri": "https://localhost:8080/"
        },
        "id": "2d64ae51-0004-43f2-9b0d-1529bc67d591",
        "outputId": "ceba68f9-2170-4b92-9171-dcc72a89e3eb"
      },
      "outputs": [
        {
          "output_type": "stream",
          "name": "stderr",
          "text": [
            "/usr/local/lib/python3.12/dist-packages/sklearn/utils/validation.py:1408: DataConversionWarning: A column-vector y was passed when a 1d array was expected. Please change the shape of y to (n_samples, ), for example using ravel().\n",
            "  y = column_or_1d(y, warn=True)\n"
          ]
        }
      ],
      "source": [
        "mu = mudel.fit(time_feature,time_target)\n",
        "res = mu.predict(time_feature_val)"
      ]
    },
    {
      "cell_type": "code",
      "execution_count": null,
      "id": "9c861dcd-232f-4ae5-917e-6cc5bdd4c47e",
      "metadata": {
        "colab": {
          "base_uri": "https://localhost:8080/"
        },
        "id": "9c861dcd-232f-4ae5-917e-6cc5bdd4c47e",
        "outputId": "38020168-c40d-4f36-d7a9-62dfb378154d"
      },
      "outputs": [
        {
          "output_type": "execute_result",
          "data": {
            "text/plain": [
              "0.7020040628559113"
            ]
          },
          "metadata": {},
          "execution_count": 43
        }
      ],
      "source": [
        "r2_score(actual_vals,res)"
      ]
    },
    {
      "cell_type": "code",
      "execution_count": null,
      "id": "8f80f4d9-3c19-498f-b5de-c00cca1bb1db",
      "metadata": {
        "id": "8f80f4d9-3c19-498f-b5de-c00cca1bb1db"
      },
      "outputs": [],
      "source": [
        "X = sm.add_constant(time_feature)"
      ]
    },
    {
      "cell_type": "code",
      "execution_count": null,
      "id": "ac507322-18b4-4054-b18f-285e702454c6",
      "metadata": {
        "id": "ac507322-18b4-4054-b18f-285e702454c6"
      },
      "outputs": [],
      "source": [
        "mod = sm.OLS(time_target,X).fit()"
      ]
    },
    {
      "cell_type": "code",
      "execution_count": null,
      "id": "9e9e3db7-d280-4ae7-9589-6d53cf6ad826",
      "metadata": {
        "id": "9e9e3db7-d280-4ae7-9589-6d53cf6ad826"
      },
      "outputs": [],
      "source": [
        "X_val = sm.add_constant(time_feature_val)\n",
        "preds = mod.predict(X_val)"
      ]
    },
    {
      "cell_type": "code",
      "execution_count": null,
      "id": "2f3ddcbb-b3f4-4150-96b6-a1545b898e81",
      "metadata": {
        "colab": {
          "base_uri": "https://localhost:8080/"
        },
        "id": "2f3ddcbb-b3f4-4150-96b6-a1545b898e81",
        "outputId": "5de747f9-ec98-4130-c32e-d368a8f5c247"
      },
      "outputs": [
        {
          "output_type": "execute_result",
          "data": {
            "text/plain": [
              "0.7019981555708452"
            ]
          },
          "metadata": {},
          "execution_count": 47
        }
      ],
      "source": [
        "r2_score(actual_vals,preds)"
      ]
    },
    {
      "cell_type": "code",
      "execution_count": null,
      "id": "e5778356-3fb6-416a-a3f9-9416da364e11",
      "metadata": {
        "id": "e5778356-3fb6-416a-a3f9-9416da364e11"
      },
      "outputs": [],
      "source": [
        "from statsmodels.sandbox.regression.gmm import GMM"
      ]
    },
    {
      "cell_type": "code",
      "execution_count": null,
      "id": "f38cef29-e60d-4cf9-b5b7-31d710af94bf",
      "metadata": {
        "id": "f38cef29-e60d-4cf9-b5b7-31d710af94bf"
      },
      "outputs": [],
      "source": []
    }
  ],
  "metadata": {
    "kernelspec": {
      "display_name": "Python 3",
      "name": "python3"
    },
    "language_info": {
      "codemirror_mode": {
        "name": "ipython",
        "version": 3
      },
      "file_extension": ".py",
      "mimetype": "text/x-python",
      "name": "python",
      "nbconvert_exporter": "python",
      "pygments_lexer": "ipython3",
      "version": "3.12.4"
    },
    "colab": {
      "provenance": []
    }
  },
  "nbformat": 4,
  "nbformat_minor": 5
}